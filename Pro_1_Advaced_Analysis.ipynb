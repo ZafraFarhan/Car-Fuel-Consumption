{
  "cells": [
    {
      "cell_type": "code",
      "execution_count": null,
      "metadata": {
        "id": "G1MzQCtBoxRg"
      },
      "outputs": [],
      "source": [
        "import pandas as pd\n",
        "import numpy as np\n",
        "import requests\n",
        "import io"
      ]
    },
    {
      "cell_type": "code",
      "execution_count": null,
      "metadata": {
        "colab": {
          "base_uri": "https://localhost:8080/",
          "height": 332
        },
        "id": "8S3GqA4jo4Xr",
        "outputId": "49fbe910-af3d-47ae-bdb4-2db53f5be017"
      },
      "outputs": [
        {
          "output_type": "error",
          "ename": "AttributeError",
          "evalue": "'NoneType' object has no attribute 'groups'",
          "traceback": [
            "\u001b[0;31m---------------------------------------------------------------------------\u001b[0m",
            "\u001b[0;31mAttributeError\u001b[0m                            Traceback (most recent call last)",
            "\u001b[0;32m<ipython-input-3-de3d0844769e>\u001b[0m in \u001b[0;36m<cell line: 10>\u001b[0;34m()\u001b[0m\n\u001b[1;32m      8\u001b[0m \u001b[0;31m# Download the file\u001b[0m\u001b[0;34m\u001b[0m\u001b[0;34m\u001b[0m\u001b[0m\n\u001b[1;32m      9\u001b[0m \u001b[0moutput_file\u001b[0m \u001b[0;34m=\u001b[0m \u001b[0;34m'train.csv'\u001b[0m\u001b[0;34m\u001b[0m\u001b[0;34m\u001b[0m\u001b[0m\n\u001b[0;32m---> 10\u001b[0;31m \u001b[0mgdown\u001b[0m\u001b[0;34m.\u001b[0m\u001b[0mdownload\u001b[0m\u001b[0;34m(\u001b[0m\u001b[0murl\u001b[0m\u001b[0;34m,\u001b[0m \u001b[0moutput\u001b[0m\u001b[0;34m=\u001b[0m\u001b[0moutput_file\u001b[0m\u001b[0;34m,\u001b[0m \u001b[0mquiet\u001b[0m\u001b[0;34m=\u001b[0m\u001b[0;32mFalse\u001b[0m\u001b[0;34m)\u001b[0m\u001b[0;34m\u001b[0m\u001b[0;34m\u001b[0m\u001b[0m\n\u001b[0m\u001b[1;32m     11\u001b[0m \u001b[0;34m\u001b[0m\u001b[0m\n\u001b[1;32m     12\u001b[0m \u001b[0;31m# Read the downloaded CSV file into a pandas DataFrame\u001b[0m\u001b[0;34m\u001b[0m\u001b[0;34m\u001b[0m\u001b[0m\n",
            "\u001b[0;32m/usr/local/lib/python3.10/dist-packages/gdown/download.py\u001b[0m in \u001b[0;36mdownload\u001b[0;34m(url, output, quiet, proxy, speed, use_cookies, verify, id, fuzzy, resume, format, user_agent)\u001b[0m\n\u001b[1;32m    248\u001b[0m         )\n\u001b[1;32m    249\u001b[0m         \u001b[0mm\u001b[0m \u001b[0;34m=\u001b[0m \u001b[0mre\u001b[0m\u001b[0;34m.\u001b[0m\u001b[0msearch\u001b[0m\u001b[0;34m(\u001b[0m\u001b[0;34mr\"filename\\*=UTF-8''(.*)\"\u001b[0m\u001b[0;34m,\u001b[0m \u001b[0mcontent_disposition\u001b[0m\u001b[0;34m)\u001b[0m\u001b[0;34m\u001b[0m\u001b[0;34m\u001b[0m\u001b[0m\n\u001b[0;32m--> 250\u001b[0;31m         \u001b[0mfilename_from_url\u001b[0m \u001b[0;34m=\u001b[0m \u001b[0mm\u001b[0m\u001b[0;34m.\u001b[0m\u001b[0mgroups\u001b[0m\u001b[0;34m(\u001b[0m\u001b[0;34m)\u001b[0m\u001b[0;34m[\u001b[0m\u001b[0;36m0\u001b[0m\u001b[0;34m]\u001b[0m\u001b[0;34m\u001b[0m\u001b[0;34m\u001b[0m\u001b[0m\n\u001b[0m\u001b[1;32m    251\u001b[0m         \u001b[0mfilename_from_url\u001b[0m \u001b[0;34m=\u001b[0m \u001b[0mfilename_from_url\u001b[0m\u001b[0;34m.\u001b[0m\u001b[0mreplace\u001b[0m\u001b[0;34m(\u001b[0m\u001b[0mosp\u001b[0m\u001b[0;34m.\u001b[0m\u001b[0msep\u001b[0m\u001b[0;34m,\u001b[0m \u001b[0;34m\"_\"\u001b[0m\u001b[0;34m)\u001b[0m\u001b[0;34m\u001b[0m\u001b[0;34m\u001b[0m\u001b[0m\n\u001b[1;32m    252\u001b[0m     \u001b[0;32melse\u001b[0m\u001b[0;34m:\u001b[0m\u001b[0;34m\u001b[0m\u001b[0;34m\u001b[0m\u001b[0m\n",
            "\u001b[0;31mAttributeError\u001b[0m: 'NoneType' object has no attribute 'groups'"
          ]
        }
      ],
      "source": [
        "import gdown\n",
        "import pandas as pd\n",
        "\n",
        "#train\n",
        "file_id = '1J3bBinxCrEbrthsmRj-HEIQzWmV25-HU'\n",
        "url = f'https://drive.google.com/uc?id={file_id}'\n",
        "\n",
        "# Download the file\n",
        "output_file = 'train.csv'\n",
        "gdown.download(url, output=output_file, quiet=False)\n",
        "\n",
        "# Read the downloaded CSV file into a pandas DataFrame\n",
        "train = pd.read_csv(output_file)\n",
        "\n",
        "#test\n",
        "file_id1 = '1E98UeUq2lrajX2f5NOlZUdQsP9_m-0A8'\n",
        "url1 = f'https://drive.google.com/uc?id={file_id1}'\n",
        "\n",
        "# Download the file\n",
        "output_file1 = 'test.csv'\n",
        "gdown.download(url1, output=output_file1, quiet=False)\n",
        "\n",
        "# Read the downloaded CSV file into a pandas DataFrame\n",
        "test = pd.read_csv(output_file1)\n"
      ]
    },
    {
      "cell_type": "code",
      "execution_count": null,
      "metadata": {
        "id": "OrYcRAkVv4ak"
      },
      "outputs": [],
      "source": [
        "train = train[['distance', 'consume', 'speed', 'temp_inside', 'temp_outside', 'gas_type', 'AC', 'rain', 'sun']]\n",
        "test = test[['distance', 'consume', 'speed', 'temp_inside', 'temp_outside', 'gas_type', 'AC', 'rain', 'sun']]\n"
      ]
    },
    {
      "cell_type": "code",
      "execution_count": null,
      "metadata": {
        "id": "NIQKyBMZq1FA"
      },
      "outputs": [],
      "source": [
        "train = pd.get_dummies(train, columns=['gas_type', 'AC', 'rain', 'sun'],drop_first=True)\n",
        "test = pd.get_dummies(test, columns=['gas_type', 'AC', 'rain', 'sun'],drop_first=True)\n"
      ]
    },
    {
      "cell_type": "code",
      "execution_count": null,
      "metadata": {
        "id": "j4PQcby2q3x5"
      },
      "outputs": [],
      "source": [
        "x_train = train[['distance', 'speed', 'temp_inside', 'temp_outside', 'gas_type_SP98', 'AC_1', 'rain_1', 'sun_1']]\n",
        "y_train = train[['consume']]\n",
        "\n",
        "x_test = test[['distance', 'speed', 'temp_inside', 'temp_outside', 'gas_type_SP98', 'AC_1', 'rain_1', 'sun_1']]\n",
        "y_test = test[['consume']]\n"
      ]
    },
    {
      "cell_type": "code",
      "execution_count": null,
      "metadata": {
        "colab": {
          "base_uri": "https://localhost:8080/"
        },
        "id": "XVvp-3bPv0Gd",
        "outputId": "27e6d13a-8794-468d-9557-d95654f55b25"
      },
      "outputs": [
        {
          "output_type": "stream",
          "name": "stdout",
          "text": [
            "<class 'pandas.core.frame.DataFrame'>\n",
            "RangeIndex: 272 entries, 0 to 271\n",
            "Data columns (total 8 columns):\n",
            " #   Column         Non-Null Count  Dtype  \n",
            "---  ------         --------------  -----  \n",
            " 0   distance       272 non-null    float64\n",
            " 1   speed          272 non-null    int64  \n",
            " 2   temp_inside    272 non-null    float64\n",
            " 3   temp_outside   272 non-null    int64  \n",
            " 4   gas_type_SP98  272 non-null    uint8  \n",
            " 5   AC_1           272 non-null    uint8  \n",
            " 6   rain_1         272 non-null    uint8  \n",
            " 7   sun_1          272 non-null    uint8  \n",
            "dtypes: float64(2), int64(2), uint8(4)\n",
            "memory usage: 9.7 KB\n"
          ]
        }
      ],
      "source": [
        "x_train.info()"
      ]
    },
    {
      "cell_type": "code",
      "execution_count": null,
      "metadata": {
        "colab": {
          "base_uri": "https://localhost:8080/"
        },
        "id": "46oRVoyevz8z",
        "outputId": "94868821-f3b7-4a47-c7f1-b9a1943ed866"
      },
      "outputs": [
        {
          "output_type": "stream",
          "name": "stdout",
          "text": [
            "<class 'pandas.core.frame.DataFrame'>\n",
            "RangeIndex: 116 entries, 0 to 115\n",
            "Data columns (total 9 columns):\n",
            " #   Column         Non-Null Count  Dtype  \n",
            "---  ------         --------------  -----  \n",
            " 0   distance       116 non-null    float64\n",
            " 1   consume        116 non-null    float64\n",
            " 2   speed          116 non-null    int64  \n",
            " 3   temp_inside    116 non-null    float64\n",
            " 4   temp_outside   116 non-null    int64  \n",
            " 5   gas_type_SP98  116 non-null    uint8  \n",
            " 6   AC_1           116 non-null    uint8  \n",
            " 7   rain_1         116 non-null    uint8  \n",
            " 8   sun_1          116 non-null    uint8  \n",
            "dtypes: float64(3), int64(2), uint8(4)\n",
            "memory usage: 5.1 KB\n"
          ]
        }
      ],
      "source": [
        "test.info()"
      ]
    },
    {
      "cell_type": "code",
      "execution_count": null,
      "metadata": {
        "id": "hTrtmPB8vz6P"
      },
      "outputs": [],
      "source": []
    },
    {
      "cell_type": "code",
      "execution_count": null,
      "metadata": {
        "id": "zdxL_zH5vz3W"
      },
      "outputs": [],
      "source": []
    },
    {
      "cell_type": "code",
      "execution_count": null,
      "metadata": {
        "id": "RLucZf27VrDI"
      },
      "outputs": [],
      "source": []
    },
    {
      "cell_type": "markdown",
      "metadata": {
        "id": "vuH_kiROudlO"
      },
      "source": [
        "**Multiple Linear Regression**"
      ]
    },
    {
      "cell_type": "code",
      "execution_count": null,
      "metadata": {
        "id": "8Hghs36lyBg-"
      },
      "outputs": [],
      "source": [
        "from sklearn.linear_model import LinearRegression\n",
        "from sklearn.metrics import mean_squared_error\n",
        "\n",
        "\n",
        "linear_reg1=LinearRegression()\n",
        "linear_reg1.fit(x_train,y_train)\n",
        "\n",
        "y_test_pred = linear_reg1.predict(x_test)\n",
        "y_train_pred = linear_reg1.predict(x_train)"
      ]
    },
    {
      "cell_type": "code",
      "execution_count": null,
      "metadata": {
        "colab": {
          "base_uri": "https://localhost:8080/",
          "height": 472
        },
        "id": "zJzf7SVQyBYX",
        "outputId": "5e639eba-b6ad-4a47-9a07-aa933bec86ac"
      },
      "outputs": [
        {
          "output_type": "display_data",
          "data": {
            "text/plain": [
              "<Figure size 640x480 with 1 Axes>"
            ],
            "image/png": "[encoded data removed]"
          },
          "metadata": {}
        }
      ],
      "source": [
        "import matplotlib.pyplot as plt\n",
        "\n",
        "# Calculate residuals\n",
        "train_residuals = y_train - y_train_pred\n",
        "test_residuals = y_test - y_test_pred\n",
        "\n",
        "# Plot residuals against predicted values for training data\n",
        "plt.scatter(y_train_pred, train_residuals, c='blue', marker='o', label='Training data')\n",
        "\n",
        "# Plot a horizontal line at y=0\n",
        "plt.axhline(y=0, color='red', linestyle='--')\n",
        "\n",
        "# Label the axes\n",
        "plt.xlabel('Predicted values')\n",
        "plt.ylabel('Residuals')\n",
        "plt.title('Residual Plot')\n",
        "plt.legend(loc='upper right')\n",
        "\n",
        "# Show plot\n",
        "plt.show()\n"
      ]
    },
    {
      "cell_type": "code",
      "execution_count": null,
      "metadata": {
        "id": "v37hpuWl773C"
      },
      "outputs": [],
      "source": []
    },
    {
      "cell_type": "code",
      "execution_count": null,
      "metadata": {
        "colab": {
          "base_uri": "https://localhost:8080/"
        },
        "id": "iTinqq9zsCnY",
        "outputId": "55a78cfb-060e-46a4-c698-0ba0b567138f"
      },
      "outputs": [
        {
          "output_type": "execute_result",
          "data": {
            "text/plain": [
              "array([2.08160736])"
            ]
          },
          "metadata": {},
          "execution_count": 10
        }
      ],
      "source": [
        "#Assumption of Independent Errors\n",
        "\n",
        "#Durbin-Watson test\n",
        "#For this test, a value of 2, or close to it, is ideal. The statistical value ranges between 0-4 where a value closer to 0 is more evidence for\n",
        "# positive serial correlation and a value closer to 4 is more evidence for negative serial correlation.\n",
        "\n",
        "import statsmodels.formula.api as smf\n",
        "import statsmodels.stats.api as sms\n",
        "from scipy import stats\n",
        "from statsmodels.compat import lzip\n",
        "import statsmodels\n",
        "import matplotlib.pyplot as plt\n",
        "\n",
        "statsmodels.stats.stattools.durbin_watson(train_residuals)\n",
        "\n",
        "#Independent"
      ]
    },
    {
      "cell_type": "code",
      "execution_count": null,
      "metadata": {
        "id": "KZ3-LTV5sCjz"
      },
      "outputs": [],
      "source": []
    },
    {
      "cell_type": "code",
      "execution_count": null,
      "metadata": {
        "colab": {
          "base_uri": "https://localhost:8080/",
          "height": 898
        },
        "id": "PCR0FdkBsChB",
        "outputId": "1374baba-4605-4c5b-93b1-f5520205823c"
      },
      "outputs": [
        {
          "output_type": "stream",
          "name": "stdout",
          "text": [
            "ShapiroResult(statistic=0.8075265884399414, pvalue=1.1894085449001026e-17)\n"
          ]
        },
        {
          "output_type": "execute_result",
          "data": {
            "text/plain": [
              "<Figure size 640x480 with 1 Axes>"
            ],
            "image/png": "[encoded data removed]"
          },
          "metadata": {},
          "execution_count": 11
        },
        {
          "output_type": "display_data",
          "data": {
            "text/plain": [
              "<Figure size 640x480 with 1 Axes>"
            ],
            "image/png": "[encoded data removed]"
          },
          "metadata": {}
        }
      ],
      "source": [
        "#Assumption of Normality of the Residuals\n",
        "\n",
        "from scipy.stats import shapiro\n",
        "from statsmodels.graphics.gofplots import qqplot\n",
        "\n",
        "print(shapiro(train_residuals))\n",
        "qqplot(train_residuals, line='s')\n",
        "\n",
        "#residuals are not normally distributed."
      ]
    },
    {
      "cell_type": "code",
      "execution_count": null,
      "metadata": {
        "id": "inWZUyAZsCed"
      },
      "outputs": [],
      "source": []
    },
    {
      "cell_type": "code",
      "execution_count": null,
      "metadata": {
        "colab": {
          "base_uri": "https://localhost:8080/",
          "height": 472
        },
        "id": "sM0FI2JZ1pG_",
        "outputId": "d4707212-9bc5-42c0-e35a-d94d1bcc62e7"
      },
      "outputs": [
        {
          "output_type": "display_data",
          "data": {
            "text/plain": [
              "<Figure size 640x480 with 1 Axes>"
            ],
            "image/png": "[encoded data removed]"
          },
          "metadata": {}
        }
      ],
      "source": [
        "#BoxCox transformation\n",
        "#log and sqrt didnt work\n",
        "\n",
        "from scipy.stats import boxcox\n",
        "\n",
        "y_train_transformed, lambda_value1 = boxcox(y_train['consume'])\n",
        "y_test_transformed, lambda_value2 = boxcox(y_test['consume'])\n",
        "\n",
        "linear_reg1=LinearRegression()\n",
        "linear_reg1.fit(x_train,y_train_transformed)\n",
        "\n",
        "y_test_pred_transformed = linear_reg1.predict(x_test)\n",
        "y_train_pred_transformed = linear_reg1.predict(x_train)\n",
        "\n",
        "# Calculate residuals\n",
        "train_residuals_transformed = y_train_transformed - y_train_pred_transformed\n",
        "test_residuals_transformed = y_test_transformed - y_test_pred_transformed\n",
        "\n",
        "# Plot residuals against predicted values for training data\n",
        "plt.scatter(y_train_pred_transformed, train_residuals_transformed, c='blue', marker='o', label='Training data')\n",
        "\n",
        "# Plot a horizontal line at y=0\n",
        "plt.axhline(y=0, color='red', linestyle='--')\n",
        "\n",
        "# Label the axes\n",
        "plt.xlabel('Predicted values')\n",
        "plt.ylabel('Residuals')\n",
        "plt.title('Residual Plot')\n",
        "plt.legend(loc='upper right')\n",
        "\n",
        "# Show plot\n",
        "plt.show()\n",
        "\n"
      ]
    },
    {
      "cell_type": "code",
      "execution_count": null,
      "metadata": {
        "colab": {
          "base_uri": "https://localhost:8080/"
        },
        "id": "wn6stNST7Jd9",
        "outputId": "dc964488-a9bf-41d2-8879-8d3604e65100"
      },
      "outputs": [
        {
          "output_type": "execute_result",
          "data": {
            "text/plain": [
              "2.0131027157988157"
            ]
          },
          "metadata": {},
          "execution_count": 13
        }
      ],
      "source": [
        "statsmodels.stats.stattools.durbin_watson(train_residuals_transformed)\n"
      ]
    },
    {
      "cell_type": "code",
      "execution_count": null,
      "metadata": {
        "colab": {
          "base_uri": "https://localhost:8080/",
          "height": 898
        },
        "id": "UBmUV5oO7Jan",
        "outputId": "832d7275-4c09-4244-e63f-7f5a4726695a"
      },
      "outputs": [
        {
          "output_type": "stream",
          "name": "stdout",
          "text": [
            "ShapiroResult(statistic=0.9938125014305115, pvalue=0.32888951897621155)\n"
          ]
        },
        {
          "output_type": "execute_result",
          "data": {
            "text/plain": [
              "<Figure size 640x480 with 1 Axes>"
            ],
            "image/png": "[encoded data removed]"
          },
          "metadata": {},
          "execution_count": 14
        },
        {
          "output_type": "display_data",
          "data": {
            "text/plain": [
              "<Figure size 640x480 with 1 Axes>"
            ],
            "image/png": "[encoded data removed]"
          },
          "metadata": {}
        }
      ],
      "source": [
        "print(shapiro(train_residuals_transformed))\n",
        "qqplot(train_residuals_transformed, line='s')"
      ]
    },
    {
      "cell_type": "code",
      "execution_count": null,
      "metadata": {
        "colab": {
          "base_uri": "https://localhost:8080/"
        },
        "id": "GZH1l_3e-QTJ",
        "outputId": "3fedb944-7dc9-4e36-d38e-4d63c9d39db1"
      },
      "outputs": [
        {
          "output_type": "stream",
          "name": "stdout",
          "text": [
            "Breusch-Pagan test p-value: 0.07575783729698875\n"
          ]
        }
      ],
      "source": [
        "#Assumption of Homoscedasticity\n",
        "\n",
        "#Bruesch-Pagan, Cook-Weisberg test, or White general test can be used\n",
        "\n",
        "#Bruesch-Pagan\n",
        "import statsmodels.api as sm\n",
        "from statsmodels.stats.diagnostic import het_breuschpagan\n",
        "\n",
        "x_train_with_constant = sm.add_constant(x_train)\n",
        "lm, lm_p_value, fvalue, f_p_value = het_breuschpagan(train_residuals_transformed, x_train_with_constant)\n",
        "print(\"Breusch-Pagan test p-value:\", lm_p_value)\n",
        "\n",
        "#homoscedasticity is not violated"
      ]
    },
    {
      "cell_type": "code",
      "execution_count": null,
      "metadata": {
        "colab": {
          "base_uri": "https://localhost:8080/"
        },
        "id": "NcijtaoC1pES",
        "outputId": "07dbc118-cfb1-45e2-ed96-e581816cb928"
      },
      "outputs": [
        {
          "output_type": "stream",
          "name": "stdout",
          "text": [
            "Mean Squared Error (MSE train): 4.522493979649815e-05\n",
            "Mean Squared Error (MSE test): 0.03557541590686706\n",
            "Root Mean Squared Error (RMSE train): 0.006724949055308758\n",
            "Root Mean Squared Error (RMSE test): 0.1886144636735663\n",
            "Mean Absolute Error (MAE train): 0.005237279772872629\n",
            "Mean Absolute Error (MAE test): 0.18766488710964319\n",
            "R-squared value train: 0.21700379131805447\n",
            "R-squared value test: -83.03416783803901\n"
          ]
        }
      ],
      "source": [
        "from sklearn.metrics import mean_squared_error, mean_absolute_error, r2_score\n",
        "import numpy as np\n",
        "\n",
        "# Calculate Mean Squared Error (MSE)\n",
        "mse_train = mean_squared_error(y_train_transformed, y_train_pred_transformed)\n",
        "mse_test = mean_squared_error(y_test_transformed, y_test_pred_transformed)\n",
        "\n",
        "# Calculate Root Mean Squared Error (RMSE)\n",
        "rmse_train = np.sqrt(mse_train)\n",
        "rmse_test = np.sqrt(mse_test)\n",
        "\n",
        "# Calculate Mean Absolute Error (MAE)\n",
        "mae_train = mean_absolute_error(y_train_transformed, y_train_pred_transformed)\n",
        "mae_test = mean_absolute_error(y_test_transformed, y_test_pred_transformed)\n",
        "\n",
        "# Calculate R-squared value\n",
        "r_squared_train = r2_score(y_train_transformed, y_train_pred_transformed)\n",
        "r_squared_test = r2_score(y_test_transformed, y_test_pred_transformed)\n",
        "\n",
        "\n",
        "print(\"Mean Squared Error (MSE train):\", mse_train)\n",
        "print(\"Mean Squared Error (MSE test):\", mse_test)\n",
        "\n",
        "print(\"Root Mean Squared Error (RMSE train):\", rmse_train)\n",
        "print(\"Root Mean Squared Error (RMSE test):\", rmse_test)\n",
        "\n",
        "print(\"Mean Absolute Error (MAE train):\", mae_train)\n",
        "print(\"Mean Absolute Error (MAE test):\", mae_test)\n",
        "\n",
        "print(\"R-squared value train:\", r_squared_train)\n",
        "print(\"R-squared value test:\", r_squared_test)\n",
        "\n"
      ]
    },
    {
      "cell_type": "code",
      "execution_count": null,
      "metadata": {
        "id": "Lj6j0UVr1o_l"
      },
      "outputs": [],
      "source": []
    },
    {
      "cell_type": "markdown",
      "metadata": {
        "id": "Qw5bFP5PKOmN"
      },
      "source": [
        "**Mahalanabois Distance**"
      ]
    },
    {
      "cell_type": "code",
      "execution_count": null,
      "metadata": {
        "colab": {
          "background_save": true
        },
        "id": "MCglBVFANfM4",
        "outputId": "a6d51136-02d0-49fd-94ff-7d7f3c18b54b"
      },
      "outputs": [
        {
          "data": {
            "text/html": [
              "\n",
              "  <div id=\"df-3fd3122a-3909-44b5-ac64-3d540d265ed0\" class=\"colab-df-container\">\n",
              "    <div>\n",
              "<style scoped>\n",
              "    .dataframe tbody tr th:only-of-type {\n",
              "        vertical-align: middle;\n",
              "    }\n",
              "\n",
              "    .dataframe tbody tr th {\n",
              "        vertical-align: top;\n",
              "    }\n",
              "\n",
              "    .dataframe thead th {\n",
              "        text-align: right;\n",
              "    }\n",
              "</style>\n",
              "<table border=\"1\" class=\"dataframe\">\n",
              "  <thead>\n",
              "    <tr style=\"text-align: right;\">\n",
              "      <th></th>\n",
              "      <th>AC_1</th>\n",
              "      <th>consume</th>\n",
              "      <th>distance</th>\n",
              "      <th>gas_type_SP98</th>\n",
              "      <th>rain_1</th>\n",
              "      <th>speed</th>\n",
              "      <th>sun_1</th>\n",
              "      <th>temp_inside</th>\n",
              "      <th>temp_outside</th>\n",
              "    </tr>\n",
              "  </thead>\n",
              "  <tbody>\n",
              "    <tr>\n",
              "      <th>0</th>\n",
              "      <td>NaN</td>\n",
              "      <td>-1.052206</td>\n",
              "      <td>-2.538235</td>\n",
              "      <td>NaN</td>\n",
              "      <td>NaN</td>\n",
              "      <td>-7.106618</td>\n",
              "      <td>NaN</td>\n",
              "      <td>0.027574</td>\n",
              "      <td>4.466912</td>\n",
              "    </tr>\n",
              "    <tr>\n",
              "      <th>1</th>\n",
              "      <td>NaN</td>\n",
              "      <td>0.147794</td>\n",
              "      <td>4.961765</td>\n",
              "      <td>NaN</td>\n",
              "      <td>NaN</td>\n",
              "      <td>15.893382</td>\n",
              "      <td>NaN</td>\n",
              "      <td>-0.472426</td>\n",
              "      <td>0.466912</td>\n",
              "    </tr>\n",
              "    <tr>\n",
              "      <th>2</th>\n",
              "      <td>NaN</td>\n",
              "      <td>-0.852206</td>\n",
              "      <td>-7.938235</td>\n",
              "      <td>NaN</td>\n",
              "      <td>NaN</td>\n",
              "      <td>-5.106618</td>\n",
              "      <td>NaN</td>\n",
              "      <td>-0.472426</td>\n",
              "      <td>-1.533088</td>\n",
              "    </tr>\n",
              "    <tr>\n",
              "      <th>3</th>\n",
              "      <td>NaN</td>\n",
              "      <td>-0.552206</td>\n",
              "      <td>-7.938235</td>\n",
              "      <td>NaN</td>\n",
              "      <td>NaN</td>\n",
              "      <td>-9.106618</td>\n",
              "      <td>NaN</td>\n",
              "      <td>0.527574</td>\n",
              "      <td>-3.533088</td>\n",
              "    </tr>\n",
              "    <tr>\n",
              "      <th>4</th>\n",
              "      <td>NaN</td>\n",
              "      <td>-0.352206</td>\n",
              "      <td>-8.038235</td>\n",
              "      <td>NaN</td>\n",
              "      <td>NaN</td>\n",
              "      <td>-5.106618</td>\n",
              "      <td>NaN</td>\n",
              "      <td>-0.472426</td>\n",
              "      <td>-5.533088</td>\n",
              "    </tr>\n",
              "    <tr>\n",
              "      <th>...</th>\n",
              "      <td>...</td>\n",
              "      <td>...</td>\n",
              "      <td>...</td>\n",
              "      <td>...</td>\n",
              "      <td>...</td>\n",
              "      <td>...</td>\n",
              "      <td>...</td>\n",
              "      <td>...</td>\n",
              "      <td>...</td>\n",
              "    </tr>\n",
              "    <tr>\n",
              "      <th>267</th>\n",
              "      <td>NaN</td>\n",
              "      <td>0.247794</td>\n",
              "      <td>-7.438235</td>\n",
              "      <td>NaN</td>\n",
              "      <td>NaN</td>\n",
              "      <td>12.893382</td>\n",
              "      <td>NaN</td>\n",
              "      <td>0.527574</td>\n",
              "      <td>-1.533088</td>\n",
              "    </tr>\n",
              "    <tr>\n",
              "      <th>268</th>\n",
              "      <td>NaN</td>\n",
              "      <td>-0.652206</td>\n",
              "      <td>-8.438235</td>\n",
              "      <td>NaN</td>\n",
              "      <td>NaN</td>\n",
              "      <td>-4.106618</td>\n",
              "      <td>NaN</td>\n",
              "      <td>0.027574</td>\n",
              "      <td>5.466912</td>\n",
              "    </tr>\n",
              "    <tr>\n",
              "      <th>269</th>\n",
              "      <td>NaN</td>\n",
              "      <td>-0.352206</td>\n",
              "      <td>-6.938235</td>\n",
              "      <td>NaN</td>\n",
              "      <td>NaN</td>\n",
              "      <td>-20.106618</td>\n",
              "      <td>NaN</td>\n",
              "      <td>0.527574</td>\n",
              "      <td>0.466912</td>\n",
              "    </tr>\n",
              "    <tr>\n",
              "      <th>270</th>\n",
              "      <td>NaN</td>\n",
              "      <td>-0.352206</td>\n",
              "      <td>-14.538235</td>\n",
              "      <td>NaN</td>\n",
              "      <td>NaN</td>\n",
              "      <td>-4.106618</td>\n",
              "      <td>NaN</td>\n",
              "      <td>0.527574</td>\n",
              "      <td>-3.533088</td>\n",
              "    </tr>\n",
              "    <tr>\n",
              "      <th>271</th>\n",
              "      <td>NaN</td>\n",
              "      <td>-0.352206</td>\n",
              "      <td>8.461765</td>\n",
              "      <td>NaN</td>\n",
              "      <td>NaN</td>\n",
              "      <td>11.893382</td>\n",
              "      <td>NaN</td>\n",
              "      <td>-0.472426</td>\n",
              "      <td>2.466912</td>\n",
              "    </tr>\n",
              "  </tbody>\n",
              "</table>\n",
              "<p>272 rows × 9 columns</p>\n",
              "</div>\n",
              "    <div class=\"colab-df-buttons\">\n",
              "\n",
              "  <div class=\"colab-df-container\">\n",
              "    <button class=\"colab-df-convert\" onclick=\"convertToInteractive('df-3fd3122a-3909-44b5-ac64-3d540d265ed0')\"\n",
              "            title=\"Convert this dataframe to an interactive table.\"\n",
              "            style=\"display:none;\">\n",
              "\n",
              "  <svg xmlns=\"http://www.w3.org/2000/svg\" height=\"24px\" viewBox=\"0 -960 960 960\">\n",
              "    <path d=\"M120-120v-720h720v720H120Zm60-500h600v-160H180v160Zm220 220h160v-160H400v160Zm0 220h160v-160H400v160ZM180-400h160v-160H180v160Zm440 0h160v-160H620v160ZM180-180h160v-160H180v160Zm440 0h160v-160H620v160Z\"/>\n",
              "  </svg>\n",
              "    </button>\n",
              "\n",
              "  <style>\n",
              "    .colab-df-container {\n",
              "      display:flex;\n",
              "      gap: 12px;\n",
              "    }\n",
              "\n",
              "    .colab-df-convert {\n",
              "      background-color: #E8F0FE;\n",
              "      border: none;\n",
              "      border-radius: 50%;\n",
              "      cursor: pointer;\n",
              "      display: none;\n",
              "      fill: #1967D2;\n",
              "      height: 32px;\n",
              "      padding: 0 0 0 0;\n",
              "      width: 32px;\n",
              "    }\n",
              "\n",
              "    .colab-df-convert:hover {\n",
              "      background-color: #E2EBFA;\n",
              "      box-shadow: 0px 1px 2px rgba(60, 64, 67, 0.3), 0px 1px 3px 1px rgba(60, 64, 67, 0.15);\n",
              "      fill: #174EA6;\n",
              "    }\n",
              "\n",
              "    .colab-df-buttons div {\n",
              "      margin-bottom: 4px;\n",
              "    }\n",
              "\n",
              "    [theme=dark] .colab-df-convert {\n",
              "      background-color: #3B4455;\n",
              "      fill: #D2E3FC;\n",
              "    }\n",
              "\n",
              "    [theme=dark] .colab-df-convert:hover {\n",
              "      background-color: #434B5C;\n",
              "      box-shadow: 0px 1px 3px 1px rgba(0, 0, 0, 0.15);\n",
              "      filter: drop-shadow(0px 1px 2px rgba(0, 0, 0, 0.3));\n",
              "      fill: #FFFFFF;\n",
              "    }\n",
              "  </style>\n",
              "\n",
              "    <script>\n",
              "      const buttonEl =\n",
              "        document.querySelector('#df-3fd3122a-3909-44b5-ac64-3d540d265ed0 button.colab-df-convert');\n",
              "      buttonEl.style.display =\n",
              "        google.colab.kernel.accessAllowed ? 'block' : 'none';\n",
              "\n",
              "      async function convertToInteractive(key) {\n",
              "        const element = document.querySelector('#df-3fd3122a-3909-44b5-ac64-3d540d265ed0');\n",
              "        const dataTable =\n",
              "          await google.colab.kernel.invokeFunction('convertToInteractive',\n",
              "                                                    [key], {});\n",
              "        if (!dataTable) return;\n",
              "\n",
              "        const docLinkHtml = 'Like what you see? Visit the ' +\n",
              "          '<a target=\"_blank\" href=https://colab.research.google.com/notebooks/data_table.ipynb>data table notebook</a>'\n",
              "          + ' to learn more about interactive tables.';\n",
              "        element.innerHTML = '';\n",
              "        dataTable['output_type'] = 'display_data';\n",
              "        await google.colab.output.renderOutput(dataTable, element);\n",
              "        const docLink = document.createElement('div');\n",
              "        docLink.innerHTML = docLinkHtml;\n",
              "        element.appendChild(docLink);\n",
              "      }\n",
              "    </script>\n",
              "  </div>\n",
              "\n",
              "\n",
              "<div id=\"df-8ecca840-8d19-4916-a81c-81a4d2164776\">\n",
              "  <button class=\"colab-df-quickchart\" onclick=\"quickchart('df-8ecca840-8d19-4916-a81c-81a4d2164776')\"\n",
              "            title=\"Suggest charts\"\n",
              "            style=\"display:none;\">\n",
              "\n",
              "<svg xmlns=\"http://www.w3.org/2000/svg\" height=\"24px\"viewBox=\"0 0 24 24\"\n",
              "     width=\"24px\">\n",
              "    <g>\n",
              "        <path d=\"M19 3H5c-1.1 0-2 .9-2 2v14c0 1.1.9 2 2 2h14c1.1 0 2-.9 2-2V5c0-1.1-.9-2-2-2zM9 17H7v-7h2v7zm4 0h-2V7h2v10zm4 0h-2v-4h2v4z\"/>\n",
              "    </g>\n",
              "</svg>\n",
              "  </button>\n",
              "\n",
              "<style>\n",
              "  .colab-df-quickchart {\n",
              "      --bg-color: #E8F0FE;\n",
              "      --fill-color: #1967D2;\n",
              "      --hover-bg-color: #E2EBFA;\n",
              "      --hover-fill-color: #174EA6;\n",
              "      --disabled-fill-color: #AAA;\n",
              "      --disabled-bg-color: #DDD;\n",
              "  }\n",
              "\n",
              "  [theme=dark] .colab-df-quickchart {\n",
              "      --bg-color: #3B4455;\n",
              "      --fill-color: #D2E3FC;\n",
              "      --hover-bg-color: #434B5C;\n",
              "      --hover-fill-color: #FFFFFF;\n",
              "      --disabled-bg-color: #3B4455;\n",
              "      --disabled-fill-color: #666;\n",
              "  }\n",
              "\n",
              "  .colab-df-quickchart {\n",
              "    background-color: var(--bg-color);\n",
              "    border: none;\n",
              "    border-radius: 50%;\n",
              "    cursor: pointer;\n",
              "    display: none;\n",
              "    fill: var(--fill-color);\n",
              "    height: 32px;\n",
              "    padding: 0;\n",
              "    width: 32px;\n",
              "  }\n",
              "\n",
              "  .colab-df-quickchart:hover {\n",
              "    background-color: var(--hover-bg-color);\n",
              "    box-shadow: 0 1px 2px rgba(60, 64, 67, 0.3), 0 1px 3px 1px rgba(60, 64, 67, 0.15);\n",
              "    fill: var(--button-hover-fill-color);\n",
              "  }\n",
              "\n",
              "  .colab-df-quickchart-complete:disabled,\n",
              "  .colab-df-quickchart-complete:disabled:hover {\n",
              "    background-color: var(--disabled-bg-color);\n",
              "    fill: var(--disabled-fill-color);\n",
              "    box-shadow: none;\n",
              "  }\n",
              "\n",
              "  .colab-df-spinner {\n",
              "    border: 2px solid var(--fill-color);\n",
              "    border-color: transparent;\n",
              "    border-bottom-color: var(--fill-color);\n",
              "    animation:\n",
              "      spin 1s steps(1) infinite;\n",
              "  }\n",
              "\n",
              "  @keyframes spin {\n",
              "    0% {\n",
              "      border-color: transparent;\n",
              "      border-bottom-color: var(--fill-color);\n",
              "      border-left-color: var(--fill-color);\n",
              "    }\n",
              "    20% {\n",
              "      border-color: transparent;\n",
              "      border-left-color: var(--fill-color);\n",
              "      border-top-color: var(--fill-color);\n",
              "    }\n",
              "    30% {\n",
              "      border-color: transparent;\n",
              "      border-left-color: var(--fill-color);\n",
              "      border-top-color: var(--fill-color);\n",
              "      border-right-color: var(--fill-color);\n",
              "    }\n",
              "    40% {\n",
              "      border-color: transparent;\n",
              "      border-right-color: var(--fill-color);\n",
              "      border-top-color: var(--fill-color);\n",
              "    }\n",
              "    60% {\n",
              "      border-color: transparent;\n",
              "      border-right-color: var(--fill-color);\n",
              "    }\n",
              "    80% {\n",
              "      border-color: transparent;\n",
              "      border-right-color: var(--fill-color);\n",
              "      border-bottom-color: var(--fill-color);\n",
              "    }\n",
              "    90% {\n",
              "      border-color: transparent;\n",
              "      border-bottom-color: var(--fill-color);\n",
              "    }\n",
              "  }\n",
              "</style>\n",
              "\n",
              "  <script>\n",
              "    async function quickchart(key) {\n",
              "      const quickchartButtonEl =\n",
              "        document.querySelector('#' + key + ' button');\n",
              "      quickchartButtonEl.disabled = true;  // To prevent multiple clicks.\n",
              "      quickchartButtonEl.classList.add('colab-df-spinner');\n",
              "      try {\n",
              "        const charts = await google.colab.kernel.invokeFunction(\n",
              "            'suggestCharts', [key], {});\n",
              "      } catch (error) {\n",
              "        console.error('Error during call to suggestCharts:', error);\n",
              "      }\n",
              "      quickchartButtonEl.classList.remove('colab-df-spinner');\n",
              "      quickchartButtonEl.classList.add('colab-df-quickchart-complete');\n",
              "    }\n",
              "    (() => {\n",
              "      let quickchartButtonEl =\n",
              "        document.querySelector('#df-8ecca840-8d19-4916-a81c-81a4d2164776 button');\n",
              "      quickchartButtonEl.style.display =\n",
              "        google.colab.kernel.accessAllowed ? 'block' : 'none';\n",
              "    })();\n",
              "  </script>\n",
              "</div>\n",
              "\n",
              "    </div>\n",
              "  </div>\n"
            ],
            "text/plain": [
              "     AC_1   consume   distance  gas_type_SP98  rain_1      speed  sun_1  \\\n",
              "0     NaN -1.052206  -2.538235            NaN     NaN  -7.106618    NaN   \n",
              "1     NaN  0.147794   4.961765            NaN     NaN  15.893382    NaN   \n",
              "2     NaN -0.852206  -7.938235            NaN     NaN  -5.106618    NaN   \n",
              "3     NaN -0.552206  -7.938235            NaN     NaN  -9.106618    NaN   \n",
              "4     NaN -0.352206  -8.038235            NaN     NaN  -5.106618    NaN   \n",
              "..    ...       ...        ...            ...     ...        ...    ...   \n",
              "267   NaN  0.247794  -7.438235            NaN     NaN  12.893382    NaN   \n",
              "268   NaN -0.652206  -8.438235            NaN     NaN  -4.106618    NaN   \n",
              "269   NaN -0.352206  -6.938235            NaN     NaN -20.106618    NaN   \n",
              "270   NaN -0.352206 -14.538235            NaN     NaN  -4.106618    NaN   \n",
              "271   NaN -0.352206   8.461765            NaN     NaN  11.893382    NaN   \n",
              "\n",
              "     temp_inside  temp_outside  \n",
              "0       0.027574      4.466912  \n",
              "1      -0.472426      0.466912  \n",
              "2      -0.472426     -1.533088  \n",
              "3       0.527574     -3.533088  \n",
              "4      -0.472426     -5.533088  \n",
              "..           ...           ...  \n",
              "267     0.527574     -1.533088  \n",
              "268     0.027574      5.466912  \n",
              "269     0.527574      0.466912  \n",
              "270     0.527574     -3.533088  \n",
              "271    -0.472426      2.466912  \n",
              "\n",
              "[272 rows x 9 columns]"
            ]
          },
          "execution_count": 7,
          "metadata": {},
          "output_type": "execute_result"
        }
      ],
      "source": [
        "x=train\n",
        "data=train[['speed', 'distance', 'temp_outside', 'temp_inside', 'consume']]\n",
        "x - np.mean(data, axis=0)\n"
      ]
    },
    {
      "cell_type": "code",
      "execution_count": null,
      "metadata": {
        "id": "_N6Hfd1_legO"
      },
      "outputs": [],
      "source": [
        "import pandas as pd\n",
        "import numpy as np\n",
        "import scipy as sp\n",
        "import matplotlib.pyplot as plt\n",
        "from scipy.stats import chi2\n",
        "\n",
        "def mahalanobis(x=None, data=None, cov=None):\n",
        "    \"\"\"Compute the Mahalanobis Distance between each row of x and the data.\"\"\"\n",
        "    x_minus_mu = x - np.mean(data, axis=0)  # Compute mean for each feature\n",
        "    if cov is None:\n",
        "        cov = np.cov(data.values.T)\n",
        "    inv_covmat = np.linalg.inv(cov)\n",
        "    left_term = np.dot(x_minus_mu, inv_covmat)\n",
        "    mahal = np.dot(left_term, x_minus_mu.T)\n",
        "    return np.sqrt(mahal.diagonal())  # Return the squared root of the diagonal elements\n",
        "\n",
        "# Assuming 'train' is your DataFrame\n",
        "df_x = train[['speed', 'distance', 'temp_outside', 'temp_inside', 'consume']]\n",
        "\n",
        "# Calculate Mahalanobis distance\n",
        "df_x['mahala'] = mahalanobis(x=df_x, data=train[['speed', 'distance', 'temp_outside', 'temp_inside', 'consume']])\n",
        "\n",
        "# Compute the P-Values\n",
        "df_x['p_value'] = 1 - chi2.cdf(df_x['mahala'], 5)\n",
        "\n",
        "# Extract extreme values\n",
        "ex = df_x.loc[df_x.p_value < 0.05]\n",
        "\n",
        "# Plot Mahalanobis Distance vs. Data Point\n",
        "plt.scatter(range(len(df_x)), df_x['mahala'], label='Mahalanobis Distance')\n",
        "plt.scatter(ex.index, ex['mahala'], color='red', label='Extreme Values')4\n",
        "\n",
        "# Set a threshold line (you can adjust this based on your requirements)\n",
        "threshold = chi2.ppf(0.95, 5)\n",
        "plt.axhline(y=threshold, color='r', linestyle='--', label='Threshold')\n",
        "\n",
        "# Add legend and labels\n",
        "plt.legend(loc='upper left', bbox_to_anchor=(1, 1))\n",
        "plt.xlabel('Data Point')\n",
        "plt.ylabel('Mahalanobis Distance')\n",
        "\n",
        "# Show the plot\n",
        "plt.show()\n"
      ]
    },
    {
      "cell_type": "code",
      "execution_count": null,
      "metadata": {
        "id": "UEZtb6BZlec1"
      },
      "outputs": [],
      "source": []
    },
    {
      "cell_type": "code",
      "execution_count": null,
      "metadata": {
        "colab": {
          "base_uri": "https://localhost:8080/"
        },
        "id": "rQshhDfJleZF",
        "outputId": "b39673ee-1188-4779-f42c-c2a22d74a0f4"
      },
      "outputs": [
        {
          "name": "stdout",
          "output_type": "stream",
          "text": [
            "14\n"
          ]
        }
      ],
      "source": [
        "from sklearn.decomposition import PCA\n",
        "import numpy as np\n",
        "\n",
        "\n",
        "# Select the features for PCA\n",
        "X = train[['speed', 'distance', 'temp_outside', 'temp_inside', 'consume']]\n",
        "\n",
        "# Standardize the features\n",
        "X_standardized = (X - X.mean()) / X.std()\n",
        "\n",
        "# Initialize PCA\n",
        "pca = PCA(n_components=2)  # Choose the number of principal components\n",
        "\n",
        "# Fit PCA\n",
        "pca.fit(X_standardized)\n",
        "\n",
        "# Transform data to principal components\n",
        "X_pca = pca.transform(X_standardized)\n",
        "\n",
        "# Calculate the squared reconstruction error (squared distance from original data)\n",
        "reconstruction_error = np.square(X_standardized - pca.inverse_transform(X_pca)).sum(axis=1)\n",
        "\n",
        "# Set a threshold for outlier detection (e.g., 95th percentile of reconstruction errors)\n",
        "threshold = np.percentile(reconstruction_error, 95)\n",
        "\n",
        "# Identify outliers based on the threshold\n",
        "outliers = train[reconstruction_error > threshold]\n",
        "\n",
        "# Display outliers\n",
        "print(len(outliers))\n"
      ]
    },
    {
      "cell_type": "code",
      "execution_count": null,
      "metadata": {
        "colab": {
          "base_uri": "https://localhost:8080/",
          "height": 423
        },
        "id": "KRvUrhggFV1J",
        "outputId": "25aa292a-91c4-4720-d3e4-772111561cae"
      },
      "outputs": [
        {
          "data": {
            "text/html": [
              "\n",
              "  <div id=\"df-b52fe473-60ce-4898-8a4d-de9ae7b50e3b\" class=\"colab-df-container\">\n",
              "    <div>\n",
              "<style scoped>\n",
              "    .dataframe tbody tr th:only-of-type {\n",
              "        vertical-align: middle;\n",
              "    }\n",
              "\n",
              "    .dataframe tbody tr th {\n",
              "        vertical-align: top;\n",
              "    }\n",
              "\n",
              "    .dataframe thead th {\n",
              "        text-align: right;\n",
              "    }\n",
              "</style>\n",
              "<table border=\"1\" class=\"dataframe\">\n",
              "  <thead>\n",
              "    <tr style=\"text-align: right;\">\n",
              "      <th></th>\n",
              "      <th>distance</th>\n",
              "      <th>consume</th>\n",
              "      <th>speed</th>\n",
              "      <th>temp_inside</th>\n",
              "      <th>temp_outside</th>\n",
              "      <th>gas_type_SP98</th>\n",
              "      <th>AC_1</th>\n",
              "      <th>rain_1</th>\n",
              "      <th>sun_1</th>\n",
              "    </tr>\n",
              "  </thead>\n",
              "  <tbody>\n",
              "    <tr>\n",
              "      <th>0</th>\n",
              "      <td>17.2</td>\n",
              "      <td>3.9</td>\n",
              "      <td>35</td>\n",
              "      <td>22.0</td>\n",
              "      <td>16</td>\n",
              "      <td>0</td>\n",
              "      <td>0</td>\n",
              "      <td>0</td>\n",
              "      <td>0</td>\n",
              "    </tr>\n",
              "    <tr>\n",
              "      <th>1</th>\n",
              "      <td>24.7</td>\n",
              "      <td>5.1</td>\n",
              "      <td>58</td>\n",
              "      <td>21.5</td>\n",
              "      <td>12</td>\n",
              "      <td>0</td>\n",
              "      <td>0</td>\n",
              "      <td>0</td>\n",
              "      <td>0</td>\n",
              "    </tr>\n",
              "    <tr>\n",
              "      <th>2</th>\n",
              "      <td>11.8</td>\n",
              "      <td>4.1</td>\n",
              "      <td>37</td>\n",
              "      <td>21.5</td>\n",
              "      <td>10</td>\n",
              "      <td>0</td>\n",
              "      <td>0</td>\n",
              "      <td>0</td>\n",
              "      <td>0</td>\n",
              "    </tr>\n",
              "    <tr>\n",
              "      <th>3</th>\n",
              "      <td>11.8</td>\n",
              "      <td>4.4</td>\n",
              "      <td>33</td>\n",
              "      <td>22.5</td>\n",
              "      <td>8</td>\n",
              "      <td>0</td>\n",
              "      <td>0</td>\n",
              "      <td>0</td>\n",
              "      <td>0</td>\n",
              "    </tr>\n",
              "    <tr>\n",
              "      <th>4</th>\n",
              "      <td>11.7</td>\n",
              "      <td>4.6</td>\n",
              "      <td>37</td>\n",
              "      <td>21.5</td>\n",
              "      <td>6</td>\n",
              "      <td>0</td>\n",
              "      <td>0</td>\n",
              "      <td>0</td>\n",
              "      <td>0</td>\n",
              "    </tr>\n",
              "    <tr>\n",
              "      <th>...</th>\n",
              "      <td>...</td>\n",
              "      <td>...</td>\n",
              "      <td>...</td>\n",
              "      <td>...</td>\n",
              "      <td>...</td>\n",
              "      <td>...</td>\n",
              "      <td>...</td>\n",
              "      <td>...</td>\n",
              "      <td>...</td>\n",
              "    </tr>\n",
              "    <tr>\n",
              "      <th>267</th>\n",
              "      <td>12.3</td>\n",
              "      <td>5.2</td>\n",
              "      <td>55</td>\n",
              "      <td>22.5</td>\n",
              "      <td>10</td>\n",
              "      <td>1</td>\n",
              "      <td>0</td>\n",
              "      <td>0</td>\n",
              "      <td>0</td>\n",
              "    </tr>\n",
              "    <tr>\n",
              "      <th>268</th>\n",
              "      <td>11.3</td>\n",
              "      <td>4.3</td>\n",
              "      <td>38</td>\n",
              "      <td>22.0</td>\n",
              "      <td>17</td>\n",
              "      <td>1</td>\n",
              "      <td>0</td>\n",
              "      <td>0</td>\n",
              "      <td>0</td>\n",
              "    </tr>\n",
              "    <tr>\n",
              "      <th>269</th>\n",
              "      <td>12.8</td>\n",
              "      <td>4.6</td>\n",
              "      <td>22</td>\n",
              "      <td>22.5</td>\n",
              "      <td>12</td>\n",
              "      <td>1</td>\n",
              "      <td>0</td>\n",
              "      <td>0</td>\n",
              "      <td>0</td>\n",
              "    </tr>\n",
              "    <tr>\n",
              "      <th>270</th>\n",
              "      <td>5.2</td>\n",
              "      <td>4.6</td>\n",
              "      <td>38</td>\n",
              "      <td>22.5</td>\n",
              "      <td>8</td>\n",
              "      <td>1</td>\n",
              "      <td>0</td>\n",
              "      <td>0</td>\n",
              "      <td>0</td>\n",
              "    </tr>\n",
              "    <tr>\n",
              "      <th>271</th>\n",
              "      <td>28.2</td>\n",
              "      <td>4.6</td>\n",
              "      <td>54</td>\n",
              "      <td>21.5</td>\n",
              "      <td>14</td>\n",
              "      <td>1</td>\n",
              "      <td>0</td>\n",
              "      <td>0</td>\n",
              "      <td>0</td>\n",
              "    </tr>\n",
              "  </tbody>\n",
              "</table>\n",
              "<p>258 rows × 9 columns</p>\n",
              "</div>\n",
              "    <div class=\"colab-df-buttons\">\n",
              "\n",
              "  <div class=\"colab-df-container\">\n",
              "    <button class=\"colab-df-convert\" onclick=\"convertToInteractive('df-b52fe473-60ce-4898-8a4d-de9ae7b50e3b')\"\n",
              "            title=\"Convert this dataframe to an interactive table.\"\n",
              "            style=\"display:none;\">\n",
              "\n",
              "  <svg xmlns=\"http://www.w3.org/2000/svg\" height=\"24px\" viewBox=\"0 -960 960 960\">\n",
              "    <path d=\"M120-120v-720h720v720H120Zm60-500h600v-160H180v160Zm220 220h160v-160H400v160Zm0 220h160v-160H400v160ZM180-400h160v-160H180v160Zm440 0h160v-160H620v160ZM180-180h160v-160H180v160Zm440 0h160v-160H620v160Z\"/>\n",
              "  </svg>\n",
              "    </button>\n",
              "\n",
              "  <style>\n",
              "    .colab-df-container {\n",
              "      display:flex;\n",
              "      gap: 12px;\n",
              "    }\n",
              "\n",
              "    .colab-df-convert {\n",
              "      background-color: #E8F0FE;\n",
              "      border: none;\n",
              "      border-radius: 50%;\n",
              "      cursor: pointer;\n",
              "      display: none;\n",
              "      fill: #1967D2;\n",
              "      height: 32px;\n",
              "      padding: 0 0 0 0;\n",
              "      width: 32px;\n",
              "    }\n",
              "\n",
              "    .colab-df-convert:hover {\n",
              "      background-color: #E2EBFA;\n",
              "      box-shadow: 0px 1px 2px rgba(60, 64, 67, 0.3), 0px 1px 3px 1px rgba(60, 64, 67, 0.15);\n",
              "      fill: #174EA6;\n",
              "    }\n",
              "\n",
              "    .colab-df-buttons div {\n",
              "      margin-bottom: 4px;\n",
              "    }\n",
              "\n",
              "    [theme=dark] .colab-df-convert {\n",
              "      background-color: #3B4455;\n",
              "      fill: #D2E3FC;\n",
              "    }\n",
              "\n",
              "    [theme=dark] .colab-df-convert:hover {\n",
              "      background-color: #434B5C;\n",
              "      box-shadow: 0px 1px 3px 1px rgba(0, 0, 0, 0.15);\n",
              "      filter: drop-shadow(0px 1px 2px rgba(0, 0, 0, 0.3));\n",
              "      fill: #FFFFFF;\n",
              "    }\n",
              "  </style>\n",
              "\n",
              "    <script>\n",
              "      const buttonEl =\n",
              "        document.querySelector('#df-b52fe473-60ce-4898-8a4d-de9ae7b50e3b button.colab-df-convert');\n",
              "      buttonEl.style.display =\n",
              "        google.colab.kernel.accessAllowed ? 'block' : 'none';\n",
              "\n",
              "      async function convertToInteractive(key) {\n",
              "        const element = document.querySelector('#df-b52fe473-60ce-4898-8a4d-de9ae7b50e3b');\n",
              "        const dataTable =\n",
              "          await google.colab.kernel.invokeFunction('convertToInteractive',\n",
              "                                                    [key], {});\n",
              "        if (!dataTable) return;\n",
              "\n",
              "        const docLinkHtml = 'Like what you see? Visit the ' +\n",
              "          '<a target=\"_blank\" href=https://colab.research.google.com/notebooks/data_table.ipynb>data table notebook</a>'\n",
              "          + ' to learn more about interactive tables.';\n",
              "        element.innerHTML = '';\n",
              "        dataTable['output_type'] = 'display_data';\n",
              "        await google.colab.output.renderOutput(dataTable, element);\n",
              "        const docLink = document.createElement('div');\n",
              "        docLink.innerHTML = docLinkHtml;\n",
              "        element.appendChild(docLink);\n",
              "      }\n",
              "    </script>\n",
              "  </div>\n",
              "\n",
              "\n",
              "<div id=\"df-2a75f555-c13a-436c-9c1e-f6c8a16936ec\">\n",
              "  <button class=\"colab-df-quickchart\" onclick=\"quickchart('df-2a75f555-c13a-436c-9c1e-f6c8a16936ec')\"\n",
              "            title=\"Suggest charts\"\n",
              "            style=\"display:none;\">\n",
              "\n",
              "<svg xmlns=\"http://www.w3.org/2000/svg\" height=\"24px\"viewBox=\"0 0 24 24\"\n",
              "     width=\"24px\">\n",
              "    <g>\n",
              "        <path d=\"M19 3H5c-1.1 0-2 .9-2 2v14c0 1.1.9 2 2 2h14c1.1 0 2-.9 2-2V5c0-1.1-.9-2-2-2zM9 17H7v-7h2v7zm4 0h-2V7h2v10zm4 0h-2v-4h2v4z\"/>\n",
              "    </g>\n",
              "</svg>\n",
              "  </button>\n",
              "\n",
              "<style>\n",
              "  .colab-df-quickchart {\n",
              "      --bg-color: #E8F0FE;\n",
              "      --fill-color: #1967D2;\n",
              "      --hover-bg-color: #E2EBFA;\n",
              "      --hover-fill-color: #174EA6;\n",
              "      --disabled-fill-color: #AAA;\n",
              "      --disabled-bg-color: #DDD;\n",
              "  }\n",
              "\n",
              "  [theme=dark] .colab-df-quickchart {\n",
              "      --bg-color: #3B4455;\n",
              "      --fill-color: #D2E3FC;\n",
              "      --hover-bg-color: #434B5C;\n",
              "      --hover-fill-color: #FFFFFF;\n",
              "      --disabled-bg-color: #3B4455;\n",
              "      --disabled-fill-color: #666;\n",
              "  }\n",
              "\n",
              "  .colab-df-quickchart {\n",
              "    background-color: var(--bg-color);\n",
              "    border: none;\n",
              "    border-radius: 50%;\n",
              "    cursor: pointer;\n",
              "    display: none;\n",
              "    fill: var(--fill-color);\n",
              "    height: 32px;\n",
              "    padding: 0;\n",
              "    width: 32px;\n",
              "  }\n",
              "\n",
              "  .colab-df-quickchart:hover {\n",
              "    background-color: var(--hover-bg-color);\n",
              "    box-shadow: 0 1px 2px rgba(60, 64, 67, 0.3), 0 1px 3px 1px rgba(60, 64, 67, 0.15);\n",
              "    fill: var(--button-hover-fill-color);\n",
              "  }\n",
              "\n",
              "  .colab-df-quickchart-complete:disabled,\n",
              "  .colab-df-quickchart-complete:disabled:hover {\n",
              "    background-color: var(--disabled-bg-color);\n",
              "    fill: var(--disabled-fill-color);\n",
              "    box-shadow: none;\n",
              "  }\n",
              "\n",
              "  .colab-df-spinner {\n",
              "    border: 2px solid var(--fill-color);\n",
              "    border-color: transparent;\n",
              "    border-bottom-color: var(--fill-color);\n",
              "    animation:\n",
              "      spin 1s steps(1) infinite;\n",
              "  }\n",
              "\n",
              "  @keyframes spin {\n",
              "    0% {\n",
              "      border-color: transparent;\n",
              "      border-bottom-color: var(--fill-color);\n",
              "      border-left-color: var(--fill-color);\n",
              "    }\n",
              "    20% {\n",
              "      border-color: transparent;\n",
              "      border-left-color: var(--fill-color);\n",
              "      border-top-color: var(--fill-color);\n",
              "    }\n",
              "    30% {\n",
              "      border-color: transparent;\n",
              "      border-left-color: var(--fill-color);\n",
              "      border-top-color: var(--fill-color);\n",
              "      border-right-color: var(--fill-color);\n",
              "    }\n",
              "    40% {\n",
              "      border-color: transparent;\n",
              "      border-right-color: var(--fill-color);\n",
              "      border-top-color: var(--fill-color);\n",
              "    }\n",
              "    60% {\n",
              "      border-color: transparent;\n",
              "      border-right-color: var(--fill-color);\n",
              "    }\n",
              "    80% {\n",
              "      border-color: transparent;\n",
              "      border-right-color: var(--fill-color);\n",
              "      border-bottom-color: var(--fill-color);\n",
              "    }\n",
              "    90% {\n",
              "      border-color: transparent;\n",
              "      border-bottom-color: var(--fill-color);\n",
              "    }\n",
              "  }\n",
              "</style>\n",
              "\n",
              "  <script>\n",
              "    async function quickchart(key) {\n",
              "      const quickchartButtonEl =\n",
              "        document.querySelector('#' + key + ' button');\n",
              "      quickchartButtonEl.disabled = true;  // To prevent multiple clicks.\n",
              "      quickchartButtonEl.classList.add('colab-df-spinner');\n",
              "      try {\n",
              "        const charts = await google.colab.kernel.invokeFunction(\n",
              "            'suggestCharts', [key], {});\n",
              "      } catch (error) {\n",
              "        console.error('Error during call to suggestCharts:', error);\n",
              "      }\n",
              "      quickchartButtonEl.classList.remove('colab-df-spinner');\n",
              "      quickchartButtonEl.classList.add('colab-df-quickchart-complete');\n",
              "    }\n",
              "    (() => {\n",
              "      let quickchartButtonEl =\n",
              "        document.querySelector('#df-2a75f555-c13a-436c-9c1e-f6c8a16936ec button');\n",
              "      quickchartButtonEl.style.display =\n",
              "        google.colab.kernel.accessAllowed ? 'block' : 'none';\n",
              "    })();\n",
              "  </script>\n",
              "</div>\n",
              "\n",
              "  <div id=\"id_bb1f7bfb-e696-4cb2-b8d5-9f3373852e8e\">\n",
              "    <style>\n",
              "      .colab-df-generate {\n",
              "        background-color: #E8F0FE;\n",
              "        border: none;\n",
              "        border-radius: 50%;\n",
              "        cursor: pointer;\n",
              "        display: none;\n",
              "        fill: #1967D2;\n",
              "        height: 32px;\n",
              "        padding: 0 0 0 0;\n",
              "        width: 32px;\n",
              "      }\n",
              "\n",
              "      .colab-df-generate:hover {\n",
              "        background-color: #E2EBFA;\n",
              "        box-shadow: 0px 1px 2px rgba(60, 64, 67, 0.3), 0px 1px 3px 1px rgba(60, 64, 67, 0.15);\n",
              "        fill: #174EA6;\n",
              "      }\n",
              "\n",
              "      [theme=dark] .colab-df-generate {\n",
              "        background-color: #3B4455;\n",
              "        fill: #D2E3FC;\n",
              "      }\n",
              "\n",
              "      [theme=dark] .colab-df-generate:hover {\n",
              "        background-color: #434B5C;\n",
              "        box-shadow: 0px 1px 3px 1px rgba(0, 0, 0, 0.15);\n",
              "        filter: drop-shadow(0px 1px 2px rgba(0, 0, 0, 0.3));\n",
              "        fill: #FFFFFF;\n",
              "      }\n",
              "    </style>\n",
              "    <button class=\"colab-df-generate\" onclick=\"generateWithVariable('cleaned_df')\"\n",
              "            title=\"Generate code using this dataframe.\"\n",
              "            style=\"display:none;\">\n",
              "\n",
              "  <svg xmlns=\"http://www.w3.org/2000/svg\" height=\"24px\"viewBox=\"0 0 24 24\"\n",
              "       width=\"24px\">\n",
              "    <path d=\"M7,19H8.4L18.45,9,17,7.55,7,17.6ZM5,21V16.75L18.45,3.32a2,2,0,0,1,2.83,0l1.4,1.43a1.91,1.91,0,0,1,.58,1.4,1.91,1.91,0,0,1-.58,1.4L9.25,21ZM18.45,9,17,7.55Zm-12,3A5.31,5.31,0,0,0,4.9,8.1,5.31,5.31,0,0,0,1,6.5,5.31,5.31,0,0,0,4.9,4.9,5.31,5.31,0,0,0,6.5,1,5.31,5.31,0,0,0,8.1,4.9,5.31,5.31,0,0,0,12,6.5,5.46,5.46,0,0,0,6.5,12Z\"/>\n",
              "  </svg>\n",
              "    </button>\n",
              "    <script>\n",
              "      (() => {\n",
              "      const buttonEl =\n",
              "        document.querySelector('#id_bb1f7bfb-e696-4cb2-b8d5-9f3373852e8e button.colab-df-generate');\n",
              "      buttonEl.style.display =\n",
              "        google.colab.kernel.accessAllowed ? 'block' : 'none';\n",
              "\n",
              "      buttonEl.onclick = () => {\n",
              "        google.colab.notebook.generateWithVariable('cleaned_df');\n",
              "      }\n",
              "      })();\n",
              "    </script>\n",
              "  </div>\n",
              "\n",
              "    </div>\n",
              "  </div>\n"
            ],
            "text/plain": [
              "     distance  consume  speed  temp_inside  temp_outside  gas_type_SP98  AC_1  \\\n",
              "0        17.2      3.9     35         22.0            16              0     0   \n",
              "1        24.7      5.1     58         21.5            12              0     0   \n",
              "2        11.8      4.1     37         21.5            10              0     0   \n",
              "3        11.8      4.4     33         22.5             8              0     0   \n",
              "4        11.7      4.6     37         21.5             6              0     0   \n",
              "..        ...      ...    ...          ...           ...            ...   ...   \n",
              "267      12.3      5.2     55         22.5            10              1     0   \n",
              "268      11.3      4.3     38         22.0            17              1     0   \n",
              "269      12.8      4.6     22         22.5            12              1     0   \n",
              "270       5.2      4.6     38         22.5             8              1     0   \n",
              "271      28.2      4.6     54         21.5            14              1     0   \n",
              "\n",
              "     rain_1  sun_1  \n",
              "0         0      0  \n",
              "1         0      0  \n",
              "2         0      0  \n",
              "3         0      0  \n",
              "4         0      0  \n",
              "..      ...    ...  \n",
              "267       0      0  \n",
              "268       0      0  \n",
              "269       0      0  \n",
              "270       0      0  \n",
              "271       0      0  \n",
              "\n",
              "[258 rows x 9 columns]"
            ]
          },
          "execution_count": 23,
          "metadata": {},
          "output_type": "execute_result"
        }
      ],
      "source": [
        "cleaned_df"
      ]
    },
    {
      "cell_type": "code",
      "execution_count": null,
      "metadata": {
        "id": "_q9SdylLleWB"
      },
      "outputs": [],
      "source": [
        "from sklearn.linear_model import LinearRegression\n",
        "\n",
        "# Remove outliers identified using PCA\n",
        "cleaned_df = train[reconstruction_error <= threshold]\n",
        "\n",
        "# Fit a linear regression model to the cleaned dataset\n",
        "X_cleaned = cleaned_df[['distance', 'speed', 'temp_inside', 'temp_outside', 'gas_type_SP98', 'AC_1', 'rain_1', 'sun_1']]\n",
        "y_cleaned = cleaned_df[['consume']]\n",
        "\n",
        "y_train_transformed, lambda_value1 = boxcox(y_cleaned['consume'])\n",
        "y_test_transformed, lambda_value2 = boxcox(y_test['consume'])\n",
        "\n",
        "linear_reg1=LinearRegression()\n",
        "linear_reg1.fit(X_cleaned,y_train_transformed)\n",
        "\n",
        "y_test_pred_transformed = linear_reg1.predict(x_test)\n",
        "y_train_pred_transformed = linear_reg1.predict(X_cleaned)\n",
        "\n",
        "# Calculate residuals\n",
        "train_residuals_transformed = y_train_transformed - y_train_pred_transformed\n",
        "test_residuals_transformed = y_test_transformed - y_test_pred_transformed\n",
        "\n"
      ]
    },
    {
      "cell_type": "code",
      "execution_count": null,
      "metadata": {
        "colab": {
          "base_uri": "https://localhost:8080/"
        },
        "id": "zyWZziVhleTP",
        "outputId": "2dc5339d-594b-488b-aaa5-9b3adab9cfc9"
      },
      "outputs": [
        {
          "name": "stdout",
          "output_type": "stream",
          "text": [
            "ShapiroResult(statistic=0.993142306804657, pvalue=0.2833620309829712)\n"
          ]
        }
      ],
      "source": [
        "print(shapiro(train_residuals_transformed))\n"
      ]
    },
    {
      "cell_type": "code",
      "execution_count": null,
      "metadata": {
        "id": "YVKCSZfSleQb"
      },
      "outputs": [],
      "source": []
    },
    {
      "cell_type": "code",
      "execution_count": null,
      "metadata": {
        "colab": {
          "base_uri": "https://localhost:8080/"
        },
        "id": "Vl8Aw_ZUGsC4",
        "outputId": "c09c26a6-ba36-4b62-b774-f1311870afad"
      },
      "outputs": [
        {
          "name": "stdout",
          "output_type": "stream",
          "text": [
            "Mean Squared Error (MSE train): 0.00024996040822214367\n",
            "Mean Squared Error (MSE test): 0.00100928200634089\n",
            "Root Mean Squared Error (RMSE train): 0.015810136249322575\n",
            "Root Mean Squared Error (RMSE test): 0.03176919901950457\n",
            "Mean Absolute Error (MAE train): 0.01251693232707699\n",
            "Mean Absolute Error (MAE test): 0.027001565000576922\n",
            "R-squared value train: 0.23339283151250434\n",
            "R-squared value test: -1.38406695620364\n"
          ]
        }
      ],
      "source": [
        "from sklearn.metrics import mean_squared_error, mean_absolute_error, r2_score\n",
        "import numpy as np\n",
        "\n",
        "# Calculate Mean Squared Error (MSE)\n",
        "mse_train = mean_squared_error(y_train_transformed, y_train_pred_transformed)\n",
        "mse_test = mean_squared_error(y_test_transformed, y_test_pred_transformed)\n",
        "\n",
        "# Calculate Root Mean Squared Error (RMSE)\n",
        "rmse_train = np.sqrt(mse_train)\n",
        "rmse_test = np.sqrt(mse_test)\n",
        "\n",
        "# Calculate Mean Absolute Error (MAE)\n",
        "mae_train = mean_absolute_error(y_train_transformed, y_train_pred_transformed)\n",
        "mae_test = mean_absolute_error(y_test_transformed, y_test_pred_transformed)\n",
        "\n",
        "# Calculate R-squared value\n",
        "r_squared_train = r2_score(y_train_transformed, y_train_pred_transformed)\n",
        "r_squared_test = r2_score(y_test_transformed, y_test_pred_transformed)\n",
        "\n",
        "\n",
        "print(\"Mean Squared Error (MSE train):\", mse_train)\n",
        "print(\"Mean Squared Error (MSE test):\", mse_test)\n",
        "\n",
        "print(\"Root Mean Squared Error (RMSE train):\", rmse_train)\n",
        "print(\"Root Mean Squared Error (RMSE test):\", rmse_test)\n",
        "\n",
        "print(\"Mean Absolute Error (MAE train):\", mae_train)\n",
        "print(\"Mean Absolute Error (MAE test):\", mae_test)\n",
        "\n",
        "print(\"R-squared value train:\", r_squared_train)\n",
        "print(\"R-squared value test:\", r_squared_test)\n",
        "\n"
      ]
    },
    {
      "cell_type": "code",
      "execution_count": null,
      "metadata": {
        "id": "mBdz32flGr_V"
      },
      "outputs": [],
      "source": []
    },
    {
      "cell_type": "code",
      "execution_count": null,
      "metadata": {
        "id": "0hUbLwZ_leNq"
      },
      "outputs": [],
      "source": []
    },
    {
      "cell_type": "markdown",
      "metadata": {
        "id": "g7EpKCUq9CBo"
      },
      "source": [
        "**Elastic Net**"
      ]
    },
    {
      "cell_type": "code",
      "source": [
        "from sklearn.model_selection import train_test_split, GridSearchCV\n",
        "from sklearn.linear_model import ElasticNet\n",
        "\n",
        "elastic_net = ElasticNet()\n",
        "\n",
        "# Define the grid of parameters to search\n",
        "param_grid = {\n",
        "    'alpha': np.arange(0,1,0.01),\n",
        "    'l1_ratio': np.arange(0,1,0.01)\n",
        "}\n",
        "\n",
        "# Perform grid search with cross-validation\n",
        "model = GridSearchCV(estimator=elastic_net, param_grid=param_grid, cv=5)\n",
        "model.fit(x_train, y_train)"
      ],
      "metadata": {
        "id": "MbM5PjyKpFUJ"
      },
      "execution_count": null,
      "outputs": []
    },
    {
      "cell_type": "code",
      "execution_count": null,
      "metadata": {
        "id": "AQuzep7r9Ail"
      },
      "outputs": [],
      "source": [
        "best_alpha = model.best_params_['alpha']\n",
        "best_l1_ratio = model.best_params_['l1_ratio']\n",
        "\n",
        "print(\"Best alpha:\", best_alpha)\n",
        "print(\"Best l1_ratio:\", best_l1_ratio)\n",
        "\n",
        "y_train_pred = model.predict(x_train)\n",
        "y_test_pred = model.predict(x_test)\n",
        "\n",
        "y_train_pred=y_train_pred.reshape(-1,1)\n",
        "y_test_pred=y_test_pred.reshape(-1,1)"
      ]
    },
    {
      "cell_type": "code",
      "execution_count": null,
      "metadata": {
        "colab": {
          "base_uri": "https://localhost:8080/"
        },
        "id": "OfFveOkY9AZB",
        "outputId": "dd820bd1-5f72-4ad2-b533-a531c9812b3e"
      },
      "outputs": [
        {
          "output_type": "stream",
          "name": "stdout",
          "text": [
            "Mean Squared Error (MSE train): 1.0224038274389764\n",
            "Mean Squared Error (MSE test): 0.47408979522505373\n",
            "Root Mean Squared Error (RMSE train): 1.0111398654187147\n",
            "Root Mean Squared Error (RMSE test): 0.6885417890186868\n",
            "Mean Absolute Error (MAE train): 0.6640429378621137\n",
            "Mean Absolute Error (MAE test): 0.5530482445810561\n",
            "R-squared value train: 0.18341871672319987\n",
            "R-squared value test: 0.22650140837738897\n"
          ]
        }
      ],
      "source": [
        "from sklearn.metrics import mean_squared_error, mean_absolute_error, r2_score\n",
        "import numpy as np\n",
        "\n",
        "# Calculate Mean Squared Error (MSE)\n",
        "mse_train = mean_squared_error(y_train, y_train_pred)\n",
        "mse_test = mean_squared_error(y_test, y_test_pred)\n",
        "\n",
        "# Calculate Root Mean Squared Error (RMSE)\n",
        "rmse_train = np.sqrt(mse_train)\n",
        "rmse_test = np.sqrt(mse_test)\n",
        "\n",
        "# Calculate Mean Absolute Error (MAE)\n",
        "mae_train = mean_absolute_error(y_train, y_train_pred)\n",
        "mae_test = mean_absolute_error(y_test, y_test_pred)\n",
        "\n",
        "# Calculate R-squared value\n",
        "r_squared_train = r2_score(y_train, y_train_pred)\n",
        "r_squared_test = r2_score(y_test, y_test_pred)\n",
        "\n",
        "\n",
        "print(\"Mean Squared Error (MSE train):\", mse_train)\n",
        "print(\"Mean Squared Error (MSE test):\", mse_test)\n",
        "\n",
        "print(\"Root Mean Squared Error (RMSE train):\", rmse_train)\n",
        "print(\"Root Mean Squared Error (RMSE test):\", rmse_test)\n",
        "\n",
        "print(\"Mean Absolute Error (MAE train):\", mae_train)\n",
        "print(\"Mean Absolute Error (MAE test):\", mae_test)\n",
        "\n",
        "print(\"R-squared value train:\", r_squared_train)\n",
        "print(\"R-squared value test:\", r_squared_test)"
      ]
    },
    {
      "cell_type": "code",
      "execution_count": null,
      "metadata": {
        "id": "mTHoFeFU951N"
      },
      "outputs": [],
      "source": []
    },
    {
      "cell_type": "markdown",
      "metadata": {
        "id": "ND2dpbEum_T7"
      },
      "source": [
        "**XGBoost**"
      ]
    },
    {
      "cell_type": "code",
      "execution_count": null,
      "metadata": {
        "id": "BrONkc_09UNy"
      },
      "outputs": [],
      "source": [
        "from xgboost import XGBRegressor\n",
        "\n",
        "xgb1=XGBRegressor()"
      ]
    },
    {
      "cell_type": "code",
      "execution_count": null,
      "metadata": {
        "id": "BFG02JgLbC-I"
      },
      "outputs": [],
      "source": [
        "xgb1 = XGBRegressor(\n",
        " learning_rate =0.029,\n",
        " n_estimators=153,\n",
        " max_depth=7,\n",
        " min_child_weight=3,\n",
        " gamma=0,\n",
        " subsample=0.75,\n",
        " colsample_bytree=0.8,\n",
        " reg_alpha=2.1,\n",
        " reg_lambda= 1,\n",
        " seed=27)\n",
        "\n",
        "xgb1.fit(x_train,y_train)\n"
      ]
    },
    {
      "cell_type": "code",
      "execution_count": null,
      "metadata": {
        "colab": {
          "base_uri": "https://localhost:8080/",
          "height": 751
        },
        "id": "4u4ppamac4DG",
        "outputId": "ee41638c-9d44-42e0-9c9a-f35647028f60"
      },
      "outputs": [
        {
          "name": "stdout",
          "output_type": "stream",
          "text": [
            "\n",
            "Model Report\n",
            "Mean Squared Error (MSE train): 0.18307650738792708\n",
            "Mean Squared Error (MSE test): 0.38890755190924037\n",
            "Root Mean Squared Error (RMSE train): 0.3765098839207586\n",
            "Root Mean Squared Error (RMSE test): 0.18861445152611891\n",
            "Mean Absolute Error (MAE train): 0.305762538839789\n",
            "Mean Absolute Error (MAE test): 0.3826967066731946\n",
            "R-squared value train: 0.8537790593809265\n",
            "R-squared value test: 0.36548002782807454\n"
          ]
        },
        {
          "data": {
            "text/plain": [
              "array([0.5023754 , 0.107411  , 0.07113084, 0.14414836, 0.02381293,\n",
              "       0.03510349, 0.10445182, 0.01156611], dtype=float32)"
            ]
          },
          "execution_count": 81,
          "metadata": {},
          "output_type": "execute_result"
        },
        {
          "data": {
            "image/png": "[encoded data removed]",
            "text/plain": [
              "<Figure size 640x480 with 1 Axes>"
            ]
          },
          "metadata": {},
          "output_type": "display_data"
        }
      ],
      "source": [
        "import xgboost as xgb\n",
        "import pandas as pd\n",
        "import matplotlib.pyplot as plt\n",
        "from sklearn.metrics import mean_squared_error\n",
        "\n",
        "def modelfit(alg, train, x_train, useTrainCV=True, cv_folds=5, early_stopping_rounds=50):\n",
        "\n",
        "    # Fit the algorithm on the data\n",
        "    alg.fit(x_train, y_train, eval_metric='rmse')\n",
        "\n",
        "    # Predict training set\n",
        "    y_train_pred = alg.predict(x_train)\n",
        "    y_test_pred = alg.predict(x_test)\n",
        "\n",
        "    # Print model report\n",
        "    print(\"\\nModel Report\")\n",
        "\n",
        "    print(\"Mean Squared Error (MSE train):\", mean_squared_error(y_train, y_train_pred))\n",
        "    print(\"Mean Squared Error (MSE test):\", mean_squared_error(y_test, y_test_pred))\n",
        "\n",
        "    print(\"Root Mean Squared Error (RMSE train):\", np.sqrt(mse_train))\n",
        "    print(\"Root Mean Squared Error (RMSE test):\", np.sqrt(mse_test))\n",
        "\n",
        "    print(\"Mean Absolute Error (MAE train):\", mean_absolute_error(y_train, y_train_pred))\n",
        "    print(\"Mean Absolute Error (MAE test):\", mean_absolute_error(y_test, y_test_pred))\n",
        "\n",
        "    print(\"R-squared value train:\", r2_score(y_train, y_train_pred))\n",
        "    print(\"R-squared value test:\", r2_score(y_test, y_test_pred))\n",
        "\n",
        "    feat_imp = pd.Series(alg.feature_importances_, index=x_train.columns).sort_values(ascending=False)\n",
        "    feat_imp.plot(kind='bar', title='Feature Importances')\n",
        "    plt.ylabel('Feature Importance Score')\n",
        "\n",
        "# Assuming xgb1 is your XGBoost regressor and 'train' is your training dataset\n",
        "modelfit(xgb1, train, x_train) # 'predictors' should be the list of feature columns you are using for prediction\n",
        "feature_importances = xgb1.feature_importances_\n",
        "feature_importances\n",
        "\n"
      ]
    },
    {
      "cell_type": "code",
      "execution_count": null,
      "metadata": {
        "id": "tS2vwtQwcyzX"
      },
      "outputs": [],
      "source": []
    },
    {
      "cell_type": "markdown",
      "metadata": {
        "id": "Kaeobvhakwo9"
      },
      "source": [
        "**XGB with Bootstrapping**"
      ]
    },
    {
      "cell_type": "code",
      "execution_count": null,
      "metadata": {
        "id": "S0S9UKB3cyt-"
      },
      "outputs": [],
      "source": [
        ".0"
      ]
    },
    {
      "cell_type": "code",
      "execution_count": null,
      "metadata": {
        "colab": {
          "base_uri": "https://localhost:8080/",
          "height": 211
        },
        "id": "9H5sHGVBh5PO",
        "outputId": "25667858-2f96-4751-e80e-87a2ed138f6a"
      },
      "outputs": [
        {
          "ename": "NameError",
          "evalue": "name 'GridSearchCV' is not defined",
          "output_type": "error",
          "traceback": [
            "\u001b[0;31m---------------------------------------------------------------------------\u001b[0m",
            "\u001b[0;31mNameError\u001b[0m                                 Traceback (most recent call last)",
            "\u001b[0;32m<ipython-input-30-41c81df6e719>\u001b[0m in \u001b[0;36m<cell line: 5>\u001b[0;34m()\u001b[0m\n\u001b[1;32m      3\u001b[0m }\n\u001b[1;32m      4\u001b[0m \u001b[0;34m\u001b[0m\u001b[0m\n\u001b[0;32m----> 5\u001b[0;31m gsearch1 = GridSearchCV(estimator = XGBRegressor( learning_rate =0.029, n_estimators=153, max_depth=7,\n\u001b[0m\u001b[1;32m      6\u001b[0m  min_child_weight=3, gamma=0, subsample=0.75, colsample_bytree=0.8, nthread=4, scale_pos_weight=1, seed=27),\n\u001b[1;32m      7\u001b[0m  param_grid = param_test1, n_jobs=4,cv=5)\n",
            "\u001b[0;31mNameError\u001b[0m: name 'GridSearchCV' is not defined"
          ]
        }
      ],
      "source": [
        "param_test1 = {\n",
        " 'reg_lambda':[1e-5,1e-2,0.1,1,2,3,4,10],\n",
        "}\n",
        "\n",
        "gsearch1 = GridSearchCV(estimator = XGBRegressor( learning_rate =0.029, n_estimators=153, max_depth=7,\n",
        " min_child_weight=3, gamma=0, subsample=0.75, colsample_bytree=0.8, nthread=4, scale_pos_weight=1, seed=27),\n",
        " param_grid = param_test1, n_jobs=4,cv=5)\n",
        "gsearch1.fit(x_train,y_train)\n",
        "gsearch1.cv_results_, gsearch1.best_params_, gsearch1.best_score_"
      ]
    },
    {
      "cell_type": "code",
      "execution_count": null,
      "metadata": {
        "id": "Wo71nwQVh5Lw"
      },
      "outputs": [],
      "source": []
    },
    {
      "cell_type": "code",
      "execution_count": null,
      "metadata": {
        "colab": {
          "base_uri": "https://localhost:8080/"
        },
        "id": "1OhVZFGe9UGZ",
        "outputId": "40f0e16e-2680-41b2-e898-4825b2e215ed"
      },
      "outputs": [
        {
          "name": "stdout",
          "output_type": "stream",
          "text": [
            "Mean Squared Error (MSE train): 1.0735018334926345e-06\n",
            "Mean Squared Error (MSE test): 0.4730984864271566\n",
            "Root Mean Squared Error (RMSE train): 0.0010360993357263746\n",
            "Root Mean Squared Error (RMSE test): 0.6878215512959422\n",
            "Mean Absolute Error (MAE train): 0.0007077241645139999\n",
            "Mean Absolute Error (MAE test): 0.42645803155570194\n",
            "R-squared value train: 0.9999991426073717\n",
            "R-squared value test: 0.22811877278126225\n"
          ]
        }
      ],
      "source": [
        "from sklearn.metrics import mean_squared_error, mean_absolute_error, r2_score\n",
        "import numpy as np\n",
        "\n",
        "# Calculate Mean Squared Error (MSE)\n",
        "mse_train = mean_squared_error(y_train, y_train_pred)\n",
        "mse_test = mean_squared_error(y_test, y_test_pred)\n",
        "\n",
        "# Calculate Root Mean Squared Error (RMSE)\n",
        "rmse_train = np.sqrt(mse_train)\n",
        "rmse_test = np.sqrt(mse_test)\n",
        "\n",
        "# Calculate Mean Absolute Error (MAE)\n",
        "mae_train = mean_absolute_error(y_train, y_train_pred)\n",
        "mae_test = mean_absolute_error(y_test, y_test_pred)\n",
        "\n",
        "# Calculate R-squared value\n",
        "r_squared_train = r2_score(y_train, y_train_pred)\n",
        "r_squared_test = r2_score(y_test, y_test_pred)\n",
        "\n",
        "\n",
        "print(\"Mean Squared Error (MSE train):\", mse_train)\n",
        "print(\"Mean Squared Error (MSE test):\", mse_test)\n",
        "\n",
        "print(\"Root Mean Squared Error (RMSE train):\", rmse_train)\n",
        "print(\"Root Mean Squared Error (RMSE test):\", rmse_test)\n",
        "\n",
        "print(\"Mean Absolute Error (MAE train):\", mae_train)\n",
        "print(\"Mean Absolute Error (MAE test):\", mae_test)\n",
        "\n",
        "print(\"R-squared value train:\", r_squared_train)\n",
        "print(\"R-squared value test:\", r_squared_test)"
      ]
    },
    {
      "cell_type": "code",
      "execution_count": null,
      "metadata": {
        "id": "bYSGl-3B9UDk"
      },
      "outputs": [],
      "source": []
    },
    {
      "cell_type": "code",
      "execution_count": null,
      "metadata": {
        "id": "uSrPsRzoTBu9"
      },
      "outputs": [],
      "source": []
    },
    {
      "cell_type": "markdown",
      "metadata": {
        "id": "jhW6hUG2aywJ"
      },
      "source": [
        "**Random Forest**"
      ]
    },
    {
      "cell_type": "code",
      "execution_count": null,
      "metadata": {
        "id": "9JpduIyCayJ2"
      },
      "outputs": [],
      "source": [
        "from sklearn.ensemble import RandomForestRegressor"
      ]
    },
    {
      "cell_type": "code",
      "execution_count": null,
      "metadata": {
        "id": "fP0e6x19297O"
      },
      "outputs": [],
      "source": [
        "rf1 = RandomForestRegressor(\n",
        "    max_features='auto',\n",
        "    n_estimators=120,\n",
        "    max_depth=15,\n",
        "    min_samples_split=7,\n",
        "    max_leaf_nodes=41,\n",
        "    max_samples=116,\n",
        "    min_samples_leaf=1,\n",
        "    bootstrap=True,\n",
        "    random_state=27)\n"
      ]
    },
    {
      "cell_type": "code",
      "execution_count": null,
      "metadata": {
        "colab": {
          "base_uri": "https://localhost:8080/",
          "height": 893
        },
        "id": "uJur3eaaydbf",
        "outputId": "277279c5-e8da-4227-86b7-ec6aa6f18010"
      },
      "outputs": [
        {
          "output_type": "stream",
          "name": "stderr",
          "text": [
            "<ipython-input-8-64797b11723e>:7: DataConversionWarning: A column-vector y was passed when a 1d array was expected. Please change the shape of y to (n_samples,), for example using ravel().\n",
            "  rf1.fit(x_train, y_train)\n",
            "/usr/local/lib/python3.10/dist-packages/sklearn/ensemble/_forest.py:413: FutureWarning: `max_features='auto'` has been deprecated in 1.1 and will be removed in 1.3. To keep the past behaviour, explicitly set `max_features=1.0` or remove this parameter as it is also the default value for RandomForestRegressors and ExtraTreesRegressors.\n",
            "  warn(\n"
          ]
        },
        {
          "output_type": "stream",
          "name": "stdout",
          "text": [
            "RandomForestRegressor(max_depth=15, max_features='auto', max_leaf_nodes=41,\n",
            "                      max_samples=116, min_samples_split=7, n_estimators=120,\n",
            "                      random_state=27)\n",
            "\n",
            "Model Report\n",
            "Mean Squared Error (MSE train): 0.24399365302605105\n",
            "Mean Squared Error (MSE test): 0.3939081415419995\n",
            "Root Mean Squared Error (RMSE train): 0.49395713683076903\n",
            "Root Mean Squared Error (RMSE test): 0.627621017447631\n",
            "Mean Absolute Error (MAE train): 0.3396762163915196\n",
            "Mean Absolute Error (MAE test): 0.40048576975786027\n",
            "R-squared value train: 0.8051252890959086\n",
            "R-squared value test: 0.3573213433822606\n",
            "[0.68859655 0.12462708 0.0180543  0.13580064 0.00620496 0.00748317\n",
            " 0.01789142 0.00134187]\n"
          ]
        },
        {
          "output_type": "display_data",
          "data": {
            "text/plain": [
              "<Figure size 640x480 with 1 Axes>"
            ],
            "image/png": "[encoded data removed]"
          },
          "metadata": {}
        }
      ],
      "source": [
        "import pandas as pd\n",
        "import matplotlib.pyplot as plt\n",
        "from sklearn.metrics import mean_squared_error, mean_absolute_error, r2_score\n",
        "\n",
        "\n",
        "    # Fit the algorithm on the data\n",
        "rf1.fit(x_train, y_train)\n",
        "\n",
        "print(rf1)\n",
        "\n",
        "    # Predict training set\n",
        "y_train_pred = rf1.predict(x_train)\n",
        "y_test_pred = rf1.predict(x_test)\n",
        "\n",
        "    # Print model report\n",
        "print(\"\\nModel Report\")\n",
        "\n",
        "print(\"Mean Squared Error (MSE train):\", mean_squared_error(y_train, y_train_pred))\n",
        "print(\"Mean Squared Error (MSE test):\", mean_squared_error(y_test, y_test_pred))\n",
        "\n",
        "print(\"Root Mean Squared Error (RMSE train):\", np.sqrt(mean_squared_error(y_train, y_train_pred)))\n",
        "print(\"Root Mean Squared Error (RMSE test):\", np.sqrt(mean_squared_error(y_test, y_test_pred)))\n",
        "\n",
        "print(\"Mean Absolute Error (MAE train):\", mean_absolute_error(y_train, y_train_pred))\n",
        "print(\"Mean Absolute Error (MAE test):\", mean_absolute_error(y_test, y_test_pred))\n",
        "\n",
        "print(\"R-squared value train:\", r2_score(y_train, y_train_pred))\n",
        "print(\"R-squared value test:\", r2_score(y_test, y_test_pred))\n",
        "\n",
        "feat_imp = pd.Series(rf1.feature_importances_, index=x_train.columns).sort_values(ascending=False)\n",
        "feat_imp.plot(kind='bar', title='Feature Importances')\n",
        "plt.ylabel('Feature Importance Score')\n",
        "print(rf1.feature_importances_)\n",
        "\n",
        "# Assuming xgb1 is your XGBoost regressor and 'train' is your training dataset\n"
      ]
    },
    {
      "cell_type": "markdown",
      "metadata": {
        "id": "iMmtPY21Ep_W"
      },
      "source": [
        "**predicting values from optimal model**"
      ]
    },
    {
      "cell_type": "code",
      "execution_count": null,
      "metadata": {
        "colab": {
          "base_uri": "https://localhost:8080/"
        },
        "id": "7Zje4JsxaCPg",
        "outputId": "d845cd35-3307-4cb4-8563-4a3a9415352b"
      },
      "outputs": [
        {
          "output_type": "stream",
          "name": "stderr",
          "text": [
            "/usr/local/lib/python3.10/dist-packages/sklearn/base.py:439: UserWarning: X does not have valid feature names, but RandomForestRegressor was fitted with feature names\n",
            "  warnings.warn(\n"
          ]
        },
        {
          "output_type": "execute_result",
          "data": {
            "text/plain": [
              "array([4.63863654])"
            ]
          },
          "metadata": {},
          "execution_count": 36
        }
      ],
      "source": [
        "rf1.predict(x_test.iloc[50].values.reshape(1, -1))"
      ]
    },
    {
      "cell_type": "code",
      "execution_count": null,
      "metadata": {
        "colab": {
          "base_uri": "https://localhost:8080/"
        },
        "id": "V_DB36SGaCMD",
        "outputId": "2081d450-3ecb-479b-a4e2-2389b9bf73ab"
      },
      "outputs": [
        {
          "output_type": "execute_result",
          "data": {
            "text/plain": [
              "consume    4.8\n",
              "Name: 50, dtype: float64"
            ]
          },
          "metadata": {},
          "execution_count": 35
        }
      ],
      "source": [
        "y_test.iloc[50]"
      ]
    },
    {
      "cell_type": "markdown",
      "metadata": {
        "id": "J46FuY7eEfbl"
      },
      "source": [
        "**n_estimator tuning in Random forest**"
      ]
    },
    {
      "cell_type": "code",
      "execution_count": null,
      "metadata": {
        "colab": {
          "base_uri": "https://localhost:8080/"
        },
        "id": "esljAQAX291l",
        "outputId": "cf57fa34-5a61-485e-c52e-829e0f1422d0"
      },
      "outputs": [
        {
          "output_type": "stream",
          "name": "stderr",
          "text": [
            "/usr/local/lib/python3.10/dist-packages/sklearn/model_selection/_search.py:909: DataConversionWarning: A column-vector y was passed when a 1d array was expected. Please change the shape of y to (n_samples,), for example using ravel().\n",
            "  self.best_estimator_.fit(X, y, **fit_params)\n",
            "/usr/local/lib/python3.10/dist-packages/sklearn/ensemble/_forest.py:413: FutureWarning: `max_features='auto'` has been deprecated in 1.1 and will be removed in 1.3. To keep the past behaviour, explicitly set `max_features=1.0` or remove this parameter as it is also the default value for RandomForestRegressors and ExtraTreesRegressors.\n",
            "  warn(\n"
          ]
        },
        {
          "output_type": "execute_result",
          "data": {
            "text/plain": [
              "({'mean_fit_time': array([1.48799367, 1.55561695, 1.10516953, 1.08110766, 1.15402017,\n",
              "         1.19093976, 1.25120826, 1.17153664, 1.73087502, 1.85341144,\n",
              "         0.945648  , 1.00524597, 1.02872677, 1.40223908, 1.44141574,\n",
              "         1.10596514, 1.69573865, 1.65272751, 1.24532347, 1.27118888,\n",
              "         1.01185713, 1.12022057, 1.20226717, 1.62301002, 2.08414507,\n",
              "         1.52209997, 1.19608355, 1.36641088, 1.47006497, 1.67229347,\n",
              "         1.56765671, 1.87949381, 1.15145879, 1.11363707, 1.23824086,\n",
              "         1.33379521, 1.41399293, 2.42494497, 1.68936806, 1.02258821,\n",
              "         0.73253083, 0.769067  , 0.79454489, 0.82497106, 0.85739989,\n",
              "         0.85050659, 0.94072189, 1.52924867, 1.4720449 , 1.04008017,\n",
              "         0.7268517 , 0.78818202, 0.78661237, 0.83877325, 0.84569755,\n",
              "         0.86719303, 0.9465414 , 1.2626545 , 1.64610481, 1.12640977,\n",
              "         0.71067038, 0.74931817, 0.78622084, 0.81941895, 0.86675854,\n",
              "         0.87885594, 0.91338234, 1.0038413 , 1.55202889, 1.48232417,\n",
              "         0.71571817, 0.77266302, 0.79917207, 0.83302102, 0.85158563,\n",
              "         0.87238374, 0.96077628, 0.95534062, 1.18635468, 1.58848515]),\n",
              "  'std_fit_time': array([0.14887292, 0.20062109, 0.07868989, 0.02466656, 0.05881466,\n",
              "         0.13838568, 0.11182549, 0.10218085, 0.33712626, 0.30498228,\n",
              "         0.083826  , 0.02281898, 0.06888618, 0.28241155, 0.29058502,\n",
              "         0.11519081, 0.44993734, 0.27979337, 0.12125021, 0.03970069,\n",
              "         0.07071618, 0.13000348, 0.17101932, 0.3275393 , 0.20397526,\n",
              "         0.26974794, 0.07731416, 0.16665995, 0.14966978, 0.14129288,\n",
              "         0.38044639, 0.3720998 , 0.1120286 , 0.09623915, 0.12980249,\n",
              "         0.14392386, 0.12258791, 0.58563094, 0.78443084, 0.06416043,\n",
              "         0.02534792, 0.06572768, 0.02968545, 0.0405829 , 0.04929758,\n",
              "         0.06056775, 0.11244318, 0.14431109, 0.24706997, 0.07058585,\n",
              "         0.03672757, 0.06132829, 0.05973572, 0.03510698, 0.05335045,\n",
              "         0.05743689, 0.07320319, 0.28659282, 0.08099945, 0.09077013,\n",
              "         0.09531091, 0.06454452, 0.06391275, 0.0658104 , 0.07181178,\n",
              "         0.10576302, 0.01385749, 0.12309025, 0.27303348, 0.224098  ,\n",
              "         0.02805535, 0.03174977, 0.04087291, 0.03658966, 0.06746465,\n",
              "         0.07786332, 0.06583801, 0.07860351, 0.22946325, 0.31263348]),\n",
              "  'mean_score_time': array([0.06244416, 0.05441766, 0.03569875, 0.03508816, 0.03751736,\n",
              "         0.02933168, 0.04055071, 0.04736166, 0.06605668, 0.05943651,\n",
              "         0.03014822, 0.03278437, 0.03784804, 0.0706378 , 0.03865495,\n",
              "         0.03446379, 0.06463337, 0.04289942, 0.04608402, 0.04083271,\n",
              "         0.03408008, 0.03548026, 0.04373846, 0.06706538, 0.06434474,\n",
              "         0.04616108, 0.03723965, 0.04716506, 0.04783912, 0.04798365,\n",
              "         0.06853228, 0.04733577, 0.04180818, 0.04288783, 0.04240365,\n",
              "         0.04281664, 0.04751945, 0.09649134, 0.03729286, 0.0352581 ,\n",
              "         0.02557578, 0.02563396, 0.02800121, 0.03313246, 0.02634459,\n",
              "         0.03905063, 0.02949247, 0.05476089, 0.04727368, 0.03493052,\n",
              "         0.02760043, 0.03300467, 0.02561145, 0.03039503, 0.02892418,\n",
              "         0.0330472 , 0.02638035, 0.0427249 , 0.05669093, 0.02985811,\n",
              "         0.0315805 , 0.02361131, 0.02724328, 0.0218843 , 0.03092213,\n",
              "         0.03424706, 0.03402505, 0.03335009, 0.06106544, 0.0420043 ,\n",
              "         0.02188597, 0.02237396, 0.02629027, 0.03246679, 0.0258245 ,\n",
              "         0.02853074, 0.03416133, 0.03522825, 0.04103999, 0.03774629]),\n",
              "  'std_score_time': array([0.00451882, 0.01624327, 0.0064024 , 0.006303  , 0.01081057,\n",
              "         0.00899419, 0.00986016, 0.00920428, 0.00926532, 0.01313561,\n",
              "         0.00660837, 0.01251329, 0.00284052, 0.01977176, 0.01014769,\n",
              "         0.013126  , 0.01066171, 0.02531315, 0.0083929 , 0.00903141,\n",
              "         0.00878731, 0.02176431, 0.02212934, 0.03745639, 0.03175087,\n",
              "         0.0193534 , 0.00322926, 0.01150742, 0.0093493 , 0.007333  ,\n",
              "         0.02181626, 0.01893225, 0.01054192, 0.00966018, 0.00787876,\n",
              "         0.00513399, 0.00838787, 0.04556979, 0.00596363, 0.00597163,\n",
              "         0.0036693 , 0.00688937, 0.00324719, 0.00724636, 0.00293759,\n",
              "         0.00677931, 0.00672145, 0.00716588, 0.01649099, 0.00490874,\n",
              "         0.00171394, 0.00834449, 0.00689793, 0.00900962, 0.00702842,\n",
              "         0.0067054 , 0.00582092, 0.01120704, 0.01629424, 0.00524475,\n",
              "         0.00536409, 0.00581744, 0.00722944, 0.00599436, 0.00835469,\n",
              "         0.01448614, 0.00486554, 0.00479992, 0.00926336, 0.0109899 ,\n",
              "         0.00206532, 0.00380765, 0.00277783, 0.00886826, 0.0088278 ,\n",
              "         0.00348737, 0.00248644, 0.00974549, 0.01108395, 0.01849236]),\n",
              "  'param_max_depth': masked_array(data=[15, 15, 15, 15, 15, 15, 15, 15, 15, 15, 17, 17, 17, 17,\n",
              "                     17, 17, 17, 17, 17, 17, 19, 19, 19, 19, 19, 19, 19, 19,\n",
              "                     19, 19, 21, 21, 21, 21, 21, 21, 21, 21, 21, 21, 23, 23,\n",
              "                     23, 23, 23, 23, 23, 23, 23, 23, 25, 25, 25, 25, 25, 25,\n",
              "                     25, 25, 25, 25, 27, 27, 27, 27, 27, 27, 27, 27, 27, 27,\n",
              "                     29, 29, 29, 29, 29, 29, 29, 29, 29, 29],\n",
              "               mask=[False, False, False, False, False, False, False, False,\n",
              "                     False, False, False, False, False, False, False, False,\n",
              "                     False, False, False, False, False, False, False, False,\n",
              "                     False, False, False, False, False, False, False, False,\n",
              "                     False, False, False, False, False, False, False, False,\n",
              "                     False, False, False, False, False, False, False, False,\n",
              "                     False, False, False, False, False, False, False, False,\n",
              "                     False, False, False, False, False, False, False, False,\n",
              "                     False, False, False, False, False, False, False, False,\n",
              "                     False, False, False, False, False, False, False, False],\n",
              "         fill_value='?',\n",
              "              dtype=object),\n",
              "  'param_n_estimators': masked_array(data=[120, 125, 130, 135, 140, 145, 150, 155, 160, 165, 120,\n",
              "                     125, 130, 135, 140, 145, 150, 155, 160, 165, 120, 125,\n",
              "                     130, 135, 140, 145, 150, 155, 160, 165, 120, 125, 130,\n",
              "                     135, 140, 145, 150, 155, 160, 165, 120, 125, 130, 135,\n",
              "                     140, 145, 150, 155, 160, 165, 120, 125, 130, 135, 140,\n",
              "                     145, 150, 155, 160, 165, 120, 125, 130, 135, 140, 145,\n",
              "                     150, 155, 160, 165, 120, 125, 130, 135, 140, 145, 150,\n",
              "                     155, 160, 165],\n",
              "               mask=[False, False, False, False, False, False, False, False,\n",
              "                     False, False, False, False, False, False, False, False,\n",
              "                     False, False, False, False, False, False, False, False,\n",
              "                     False, False, False, False, False, False, False, False,\n",
              "                     False, False, False, False, False, False, False, False,\n",
              "                     False, False, False, False, False, False, False, False,\n",
              "                     False, False, False, False, False, False, False, False,\n",
              "                     False, False, False, False, False, False, False, False,\n",
              "                     False, False, False, False, False, False, False, False,\n",
              "                     False, False, False, False, False, False, False, False],\n",
              "         fill_value='?',\n",
              "              dtype=object),\n",
              "  'params': [{'max_depth': 15, 'n_estimators': 120},\n",
              "   {'max_depth': 15, 'n_estimators': 125},\n",
              "   {'max_depth': 15, 'n_estimators': 130},\n",
              "   {'max_depth': 15, 'n_estimators': 135},\n",
              "   {'max_depth': 15, 'n_estimators': 140},\n",
              "   {'max_depth': 15, 'n_estimators': 145},\n",
              "   {'max_depth': 15, 'n_estimators': 150},\n",
              "   {'max_depth': 15, 'n_estimators': 155},\n",
              "   {'max_depth': 15, 'n_estimators': 160},\n",
              "   {'max_depth': 15, 'n_estimators': 165},\n",
              "   {'max_depth': 17, 'n_estimators': 120},\n",
              "   {'max_depth': 17, 'n_estimators': 125},\n",
              "   {'max_depth': 17, 'n_estimators': 130},\n",
              "   {'max_depth': 17, 'n_estimators': 135},\n",
              "   {'max_depth': 17, 'n_estimators': 140},\n",
              "   {'max_depth': 17, 'n_estimators': 145},\n",
              "   {'max_depth': 17, 'n_estimators': 150},\n",
              "   {'max_depth': 17, 'n_estimators': 155},\n",
              "   {'max_depth': 17, 'n_estimators': 160},\n",
              "   {'max_depth': 17, 'n_estimators': 165},\n",
              "   {'max_depth': 19, 'n_estimators': 120},\n",
              "   {'max_depth': 19, 'n_estimators': 125},\n",
              "   {'max_depth': 19, 'n_estimators': 130},\n",
              "   {'max_depth': 19, 'n_estimators': 135},\n",
              "   {'max_depth': 19, 'n_estimators': 140},\n",
              "   {'max_depth': 19, 'n_estimators': 145},\n",
              "   {'max_depth': 19, 'n_estimators': 150},\n",
              "   {'max_depth': 19, 'n_estimators': 155},\n",
              "   {'max_depth': 19, 'n_estimators': 160},\n",
              "   {'max_depth': 19, 'n_estimators': 165},\n",
              "   {'max_depth': 21, 'n_estimators': 120},\n",
              "   {'max_depth': 21, 'n_estimators': 125},\n",
              "   {'max_depth': 21, 'n_estimators': 130},\n",
              "   {'max_depth': 21, 'n_estimators': 135},\n",
              "   {'max_depth': 21, 'n_estimators': 140},\n",
              "   {'max_depth': 21, 'n_estimators': 145},\n",
              "   {'max_depth': 21, 'n_estimators': 150},\n",
              "   {'max_depth': 21, 'n_estimators': 155},\n",
              "   {'max_depth': 21, 'n_estimators': 160},\n",
              "   {'max_depth': 21, 'n_estimators': 165},\n",
              "   {'max_depth': 23, 'n_estimators': 120},\n",
              "   {'max_depth': 23, 'n_estimators': 125},\n",
              "   {'max_depth': 23, 'n_estimators': 130},\n",
              "   {'max_depth': 23, 'n_estimators': 135},\n",
              "   {'max_depth': 23, 'n_estimators': 140},\n",
              "   {'max_depth': 23, 'n_estimators': 145},\n",
              "   {'max_depth': 23, 'n_estimators': 150},\n",
              "   {'max_depth': 23, 'n_estimators': 155},\n",
              "   {'max_depth': 23, 'n_estimators': 160},\n",
              "   {'max_depth': 23, 'n_estimators': 165},\n",
              "   {'max_depth': 25, 'n_estimators': 120},\n",
              "   {'max_depth': 25, 'n_estimators': 125},\n",
              "   {'max_depth': 25, 'n_estimators': 130},\n",
              "   {'max_depth': 25, 'n_estimators': 135},\n",
              "   {'max_depth': 25, 'n_estimators': 140},\n",
              "   {'max_depth': 25, 'n_estimators': 145},\n",
              "   {'max_depth': 25, 'n_estimators': 150},\n",
              "   {'max_depth': 25, 'n_estimators': 155},\n",
              "   {'max_depth': 25, 'n_estimators': 160},\n",
              "   {'max_depth': 25, 'n_estimators': 165},\n",
              "   {'max_depth': 27, 'n_estimators': 120},\n",
              "   {'max_depth': 27, 'n_estimators': 125},\n",
              "   {'max_depth': 27, 'n_estimators': 130},\n",
              "   {'max_depth': 27, 'n_estimators': 135},\n",
              "   {'max_depth': 27, 'n_estimators': 140},\n",
              "   {'max_depth': 27, 'n_estimators': 145},\n",
              "   {'max_depth': 27, 'n_estimators': 150},\n",
              "   {'max_depth': 27, 'n_estimators': 155},\n",
              "   {'max_depth': 27, 'n_estimators': 160},\n",
              "   {'max_depth': 27, 'n_estimators': 165},\n",
              "   {'max_depth': 29, 'n_estimators': 120},\n",
              "   {'max_depth': 29, 'n_estimators': 125},\n",
              "   {'max_depth': 29, 'n_estimators': 130},\n",
              "   {'max_depth': 29, 'n_estimators': 135},\n",
              "   {'max_depth': 29, 'n_estimators': 140},\n",
              "   {'max_depth': 29, 'n_estimators': 145},\n",
              "   {'max_depth': 29, 'n_estimators': 150},\n",
              "   {'max_depth': 29, 'n_estimators': 155},\n",
              "   {'max_depth': 29, 'n_estimators': 160},\n",
              "   {'max_depth': 29, 'n_estimators': 165}],\n",
              "  'split0_test_score': array([0.69502304, 0.69570486, 0.70002743, 0.69874135, 0.69996669,\n",
              "         0.70230928, 0.70065389, 0.69899212, 0.70167448, 0.70120741,\n",
              "         0.69266483, 0.69345668, 0.69726753, 0.69682671, 0.6979973 ,\n",
              "         0.70034432, 0.69918266, 0.6979793 , 0.70070647, 0.70022202,\n",
              "         0.6928246 , 0.69361621, 0.69739314, 0.6969323 , 0.6980686 ,\n",
              "         0.70040687, 0.6992328 , 0.69803442, 0.70076104, 0.70030688,\n",
              "         0.69295118, 0.69373581, 0.69750771, 0.69705909, 0.69818771,\n",
              "         0.70052067, 0.69934389, 0.69814283, 0.70086292, 0.70040583,\n",
              "         0.69295118, 0.69373581, 0.69750771, 0.69705909, 0.69818771,\n",
              "         0.70052067, 0.69934389, 0.69814283, 0.70086292, 0.70040583,\n",
              "         0.69295118, 0.69373581, 0.69750771, 0.69705909, 0.69818771,\n",
              "         0.70052067, 0.69934389, 0.69814283, 0.70086292, 0.70040583,\n",
              "         0.69295118, 0.69373581, 0.69750771, 0.69705909, 0.69818771,\n",
              "         0.70052067, 0.69934389, 0.69814283, 0.70086292, 0.70040583,\n",
              "         0.69295118, 0.69373581, 0.69750771, 0.69705909, 0.69818771,\n",
              "         0.70052067, 0.69934389, 0.69814283, 0.70086292, 0.70040583]),\n",
              "  'split1_test_score': array([0.46142157, 0.45796596, 0.46276482, 0.46310098, 0.46155951,\n",
              "         0.46294965, 0.465052  , 0.46770311, 0.46639472, 0.46681808,\n",
              "         0.46020594, 0.45695723, 0.46196004, 0.46244288, 0.46107243,\n",
              "         0.46217711, 0.46442826, 0.4683152 , 0.46758786, 0.46805676,\n",
              "         0.45752052, 0.4542822 , 0.45949314, 0.46006143, 0.45875895,\n",
              "         0.45993991, 0.46216775, 0.46612714, 0.46544358, 0.46597002,\n",
              "         0.4576012 , 0.45435757, 0.45955636, 0.46012174, 0.45881917,\n",
              "         0.46002905, 0.46223481, 0.46619133, 0.46551256, 0.46603896,\n",
              "         0.4576012 , 0.45435757, 0.45955636, 0.46012174, 0.45881917,\n",
              "         0.46002905, 0.46223481, 0.46619133, 0.46551256, 0.46603896,\n",
              "         0.4576012 , 0.45435757, 0.45955636, 0.46012174, 0.45881917,\n",
              "         0.46002905, 0.46223481, 0.46619133, 0.46551256, 0.46603896,\n",
              "         0.4576012 , 0.45435757, 0.45955636, 0.46012174, 0.45881917,\n",
              "         0.46002905, 0.46223481, 0.46619133, 0.46551256, 0.46603896,\n",
              "         0.4576012 , 0.45435757, 0.45955636, 0.46012174, 0.45881917,\n",
              "         0.46002905, 0.46223481, 0.46619133, 0.46551256, 0.46603896]),\n",
              "  'split2_test_score': array([0.53012878, 0.52640717, 0.52507921, 0.52305202, 0.51956555,\n",
              "         0.51891934, 0.51988722, 0.517082  , 0.5139579 , 0.51359927,\n",
              "         0.52892003, 0.52536123, 0.52413879, 0.52203342, 0.51848814,\n",
              "         0.51815222, 0.51953238, 0.51667022, 0.51328061, 0.5132799 ,\n",
              "         0.52866982, 0.52510594, 0.52389916, 0.52180018, 0.51820691,\n",
              "         0.51788326, 0.51926149, 0.51641045, 0.51303221, 0.51305814,\n",
              "         0.52837912, 0.52482138, 0.52362416, 0.52153468, 0.51794711,\n",
              "         0.51763408, 0.51901909, 0.51617477, 0.51280282, 0.51289083,\n",
              "         0.52837912, 0.52482138, 0.52362416, 0.52153468, 0.51794711,\n",
              "         0.51763408, 0.51901909, 0.51617477, 0.51280282, 0.51289198,\n",
              "         0.52837912, 0.52482138, 0.52362416, 0.52153468, 0.51794711,\n",
              "         0.51763408, 0.51901909, 0.51617477, 0.51280282, 0.51289198,\n",
              "         0.52837912, 0.52482138, 0.52362416, 0.52153468, 0.51794711,\n",
              "         0.51763408, 0.51901909, 0.51617477, 0.51280282, 0.51289198,\n",
              "         0.52837912, 0.52482138, 0.52362416, 0.52153468, 0.51794711,\n",
              "         0.51763408, 0.51901909, 0.51617477, 0.51280282, 0.51289198]),\n",
              "  'split3_test_score': array([0.76947947, 0.77260273, 0.77548484, 0.77624867, 0.77743941,\n",
              "         0.77982119, 0.77697576, 0.77608691, 0.77602416, 0.77664649,\n",
              "         0.76908658, 0.7723406 , 0.7748662 , 0.77565175, 0.77706607,\n",
              "         0.77928519, 0.77653709, 0.77576762, 0.77581424, 0.77617628,\n",
              "         0.7689605 , 0.77244912, 0.77487696, 0.77587736, 0.77728954,\n",
              "         0.77969859, 0.77691905, 0.77616037, 0.77621412, 0.77654852,\n",
              "         0.76894943, 0.77239122, 0.77482317, 0.77582799, 0.7772389 ,\n",
              "         0.77964956, 0.77686361, 0.77609756, 0.77615264, 0.77648815,\n",
              "         0.76894943, 0.77239122, 0.77482317, 0.77582799, 0.7772389 ,\n",
              "         0.77964956, 0.77686361, 0.77609756, 0.77615264, 0.77648815,\n",
              "         0.76894943, 0.77239122, 0.77482317, 0.77582799, 0.7772389 ,\n",
              "         0.77964956, 0.77686361, 0.77609756, 0.77615264, 0.77648815,\n",
              "         0.76894943, 0.77239122, 0.77482317, 0.77582799, 0.7772389 ,\n",
              "         0.77964956, 0.77686361, 0.77609756, 0.77615264, 0.77648815,\n",
              "         0.76894943, 0.77239122, 0.77482317, 0.77582799, 0.7772389 ,\n",
              "         0.77964956, 0.77686361, 0.77609756, 0.77615264, 0.77648815]),\n",
              "  'split4_test_score': array([0.66588256, 0.66928038, 0.67300809, 0.67254945, 0.67489629,\n",
              "         0.67690914, 0.677022  , 0.67787227, 0.67716858, 0.67389092,\n",
              "         0.66666578, 0.67013009, 0.67358194, 0.67316784, 0.67556657,\n",
              "         0.67729314, 0.67749099, 0.67835412, 0.67755647, 0.67412974,\n",
              "         0.6667622 , 0.6702306 , 0.67399465, 0.67352039, 0.67589704,\n",
              "         0.67757148, 0.67776608, 0.67862912, 0.67783812, 0.67440227,\n",
              "         0.66697061, 0.67043089, 0.67418775, 0.67370558, 0.67608005,\n",
              "         0.67774785, 0.67793604, 0.67879216, 0.6779945 , 0.67455439,\n",
              "         0.66697061, 0.67043089, 0.67418775, 0.67370558, 0.67608005,\n",
              "         0.67774785, 0.67793604, 0.67879216, 0.6779945 , 0.67455439,\n",
              "         0.66697061, 0.67043089, 0.67418775, 0.67370558, 0.67608005,\n",
              "         0.67774785, 0.67793604, 0.67879216, 0.6779945 , 0.67455439,\n",
              "         0.66697061, 0.67043089, 0.67418775, 0.67370558, 0.67608005,\n",
              "         0.67774785, 0.67793604, 0.67879216, 0.6779945 , 0.67455439,\n",
              "         0.66697061, 0.67043089, 0.67418775, 0.67370558, 0.67608005,\n",
              "         0.67774785, 0.67793604, 0.67879216, 0.6779945 , 0.67455439]),\n",
              "  'mean_test_score': array([0.62438709, 0.62439222, 0.62727288, 0.6267385 , 0.62668549,\n",
              "         0.62818172, 0.62791818, 0.62754728, 0.62704397, 0.62643243,\n",
              "         0.62350863, 0.62364916, 0.6263629 , 0.62602452, 0.6260381 ,\n",
              "         0.6274504 , 0.62743427, 0.62741729, 0.62698913, 0.62637294,\n",
              "         0.62294753, 0.62313681, 0.62593141, 0.62563833, 0.62564421,\n",
              "         0.62710002, 0.62706944, 0.6270723 , 0.62665781, 0.62605717,\n",
              "         0.62297031, 0.62314737, 0.62593983, 0.62564982, 0.62565459,\n",
              "         0.62711624, 0.62707949, 0.62707973, 0.62666509, 0.62607563,\n",
              "         0.62297031, 0.62314737, 0.62593983, 0.62564982, 0.62565459,\n",
              "         0.62711624, 0.62707949, 0.62707973, 0.62666509, 0.62607586,\n",
              "         0.62297031, 0.62314737, 0.62593983, 0.62564982, 0.62565459,\n",
              "         0.62711624, 0.62707949, 0.62707973, 0.62666509, 0.62607586,\n",
              "         0.62297031, 0.62314737, 0.62593983, 0.62564982, 0.62565459,\n",
              "         0.62711624, 0.62707949, 0.62707973, 0.62666509, 0.62607586,\n",
              "         0.62297031, 0.62314737, 0.62593983, 0.62564982, 0.62565459,\n",
              "         0.62711624, 0.62707949, 0.62707973, 0.62666509, 0.62607586]),\n",
              "  'std_test_score': array([0.11243265, 0.115209  , 0.11563578, 0.11590036, 0.11761159,\n",
              "         0.11840919, 0.11671839, 0.11614967, 0.11736603, 0.117146  ,\n",
              "         0.11265241, 0.11540314, 0.11557543, 0.1159283 , 0.11766164,\n",
              "         0.11841704, 0.11670384, 0.1158963 , 0.11702872, 0.11664432,\n",
              "         0.11346956, 0.11627662, 0.11637346, 0.11674361, 0.11845709,\n",
              "         0.11922952, 0.11751402, 0.11667936, 0.11779525, 0.11738364,\n",
              "         0.11352329, 0.11631869, 0.11641995, 0.11679181, 0.11850447,\n",
              "         0.11926664, 0.11755393, 0.11671798, 0.1178315 , 0.11740667,\n",
              "         0.11352329, 0.11631869, 0.11641995, 0.11679181, 0.11850447,\n",
              "         0.11926664, 0.11755393, 0.11671798, 0.1178315 , 0.11740645,\n",
              "         0.11352329, 0.11631869, 0.11641995, 0.11679181, 0.11850447,\n",
              "         0.11926664, 0.11755393, 0.11671798, 0.1178315 , 0.11740645,\n",
              "         0.11352329, 0.11631869, 0.11641995, 0.11679181, 0.11850447,\n",
              "         0.11926664, 0.11755393, 0.11671798, 0.1178315 , 0.11740645,\n",
              "         0.11352329, 0.11631869, 0.11641995, 0.11679181, 0.11850447,\n",
              "         0.11926664, 0.11755393, 0.11671798, 0.1178315 , 0.11740645]),\n",
              "  'rank_test_score': array([66, 65,  7, 28, 29,  1,  2,  3, 26, 36, 68, 67, 38, 46, 45,  4,  5,\n",
              "          6, 27, 37, 80, 74, 52, 64, 63, 13, 25, 24, 35, 44, 75, 69, 47, 58,\n",
              "         53,  8, 19, 14, 30, 43, 75, 69, 47, 58, 53,  8, 19, 14, 30, 39, 75,\n",
              "         69, 47, 58, 53,  8, 19, 14, 30, 39, 75, 69, 47, 58, 53,  8, 19, 14,\n",
              "         30, 39, 75, 69, 47, 58, 53,  8, 19, 14, 30, 39], dtype=int32)},\n",
              " {'max_depth': 15, 'n_estimators': 145},\n",
              " 0.6281817196882498)"
            ]
          },
          "metadata": {},
          "execution_count": 25
        }
      ],
      "source": [
        "from sklearn.model_selection import GridSearchCV\n",
        "param_test1 = {\n",
        "    'n_estimators':np.arange(100,200,5),\n",
        "    'max_depth':np.arange(15,30,2)\n",
        "}\n",
        "\n",
        "rf2 = RandomForestRegressor()\n",
        "rsearch1 = GridSearchCV(estimator = rf2,param_grid = param_test1, n_jobs=4,cv=5)\n",
        "\n",
        "rsearch1.fit(x_train,y_train)\n",
        "rsearch1.cv_results_, rsearch1.best_params_, rsearch1.best_score_"
      ]
    },
    {
      "cell_type": "code",
      "execution_count": null,
      "metadata": {
        "id": "Kn_w3g_B29yd"
      },
      "outputs": [],
      "source": []
    },
    {
      "cell_type": "code",
      "execution_count": null,
      "metadata": {
        "colab": {
          "base_uri": "https://localhost:8080/",
          "height": 356
        },
        "id": "AYt6JElI8l9V",
        "outputId": "0a329bfc-d211-45d8-92e5-449e5520dcfd"
      },
      "outputs": [
        {
          "ename": "KeyboardInterrupt",
          "evalue": "",
          "output_type": "error",
          "traceback": [
            "\u001b[0;31m---------------------------------------------------------------------------\u001b[0m",
            "\u001b[0;31mKeyboardInterrupt\u001b[0m                         Traceback (most recent call last)",
            "\u001b[0;32m<ipython-input-32-25e044325d79>\u001b[0m in \u001b[0;36m<cell line: 22>\u001b[0;34m()\u001b[0m\n\u001b[1;32m     20\u001b[0m \u001b[0;31m# Perform GridSearchCV\u001b[0m\u001b[0;34m\u001b[0m\u001b[0;34m\u001b[0m\u001b[0m\n\u001b[1;32m     21\u001b[0m \u001b[0mgrid_search_rf\u001b[0m \u001b[0;34m=\u001b[0m \u001b[0mGridSearchCV\u001b[0m\u001b[0;34m(\u001b[0m\u001b[0mestimator\u001b[0m\u001b[0;34m=\u001b[0m\u001b[0mrf\u001b[0m\u001b[0;34m,\u001b[0m \u001b[0mparam_grid\u001b[0m\u001b[0;34m=\u001b[0m\u001b[0mparam_dist_rf\u001b[0m\u001b[0;34m,\u001b[0m \u001b[0mcv\u001b[0m\u001b[0;34m=\u001b[0m\u001b[0;36m5\u001b[0m\u001b[0;34m,\u001b[0m \u001b[0mn_jobs\u001b[0m\u001b[0;34m=\u001b[0m\u001b[0;34m-\u001b[0m\u001b[0;36m1\u001b[0m\u001b[0;34m)\u001b[0m\u001b[0;34m\u001b[0m\u001b[0;34m\u001b[0m\u001b[0m\n\u001b[0;32m---> 22\u001b[0;31m \u001b[0mgrid_search_rf\u001b[0m\u001b[0;34m.\u001b[0m\u001b[0mfit\u001b[0m\u001b[0;34m(\u001b[0m\u001b[0mx_train\u001b[0m\u001b[0;34m,\u001b[0m \u001b[0my_train\u001b[0m\u001b[0;34m)\u001b[0m  \u001b[0;31m# Assuming you have defined X_train and y_train\u001b[0m\u001b[0;34m\u001b[0m\u001b[0;34m\u001b[0m\u001b[0m\n\u001b[0m\u001b[1;32m     23\u001b[0m \u001b[0;34m\u001b[0m\u001b[0m\n\u001b[1;32m     24\u001b[0m \u001b[0;31m# Print best parameters and best score\u001b[0m\u001b[0;34m\u001b[0m\u001b[0;34m\u001b[0m\u001b[0m\n",
            "\u001b[0;32m/usr/local/lib/python3.10/dist-packages/sklearn/model_selection/_search.py\u001b[0m in \u001b[0;36mfit\u001b[0;34m(self, X, y, groups, **fit_params)\u001b[0m\n\u001b[1;32m    872\u001b[0m                 \u001b[0;32mreturn\u001b[0m \u001b[0mresults\u001b[0m\u001b[0;34m\u001b[0m\u001b[0;34m\u001b[0m\u001b[0m\n\u001b[1;32m    873\u001b[0m \u001b[0;34m\u001b[0m\u001b[0m\n\u001b[0;32m--> 874\u001b[0;31m             \u001b[0mself\u001b[0m\u001b[0;34m.\u001b[0m\u001b[0m_run_search\u001b[0m\u001b[0;34m(\u001b[0m\u001b[0mevaluate_candidates\u001b[0m\u001b[0;34m)\u001b[0m\u001b[0;34m\u001b[0m\u001b[0;34m\u001b[0m\u001b[0m\n\u001b[0m\u001b[1;32m    875\u001b[0m \u001b[0;34m\u001b[0m\u001b[0m\n\u001b[1;32m    876\u001b[0m             \u001b[0;31m# multimetric is determined here because in the case of a callable\u001b[0m\u001b[0;34m\u001b[0m\u001b[0;34m\u001b[0m\u001b[0m\n",
            "\u001b[0;32m/usr/local/lib/python3.10/dist-packages/sklearn/model_selection/_search.py\u001b[0m in \u001b[0;36m_run_search\u001b[0;34m(self, evaluate_candidates)\u001b[0m\n\u001b[1;32m   1386\u001b[0m     \u001b[0;32mdef\u001b[0m \u001b[0m_run_search\u001b[0m\u001b[0;34m(\u001b[0m\u001b[0mself\u001b[0m\u001b[0;34m,\u001b[0m \u001b[0mevaluate_candidates\u001b[0m\u001b[0;34m)\u001b[0m\u001b[0;34m:\u001b[0m\u001b[0;34m\u001b[0m\u001b[0;34m\u001b[0m\u001b[0m\n\u001b[1;32m   1387\u001b[0m         \u001b[0;34m\"\"\"Search all candidates in param_grid\"\"\"\u001b[0m\u001b[0;34m\u001b[0m\u001b[0;34m\u001b[0m\u001b[0m\n\u001b[0;32m-> 1388\u001b[0;31m         \u001b[0mevaluate_candidates\u001b[0m\u001b[0;34m(\u001b[0m\u001b[0mParameterGrid\u001b[0m\u001b[0;34m(\u001b[0m\u001b[0mself\u001b[0m\u001b[0;34m.\u001b[0m\u001b[0mparam_grid\u001b[0m\u001b[0;34m)\u001b[0m\u001b[0;34m)\u001b[0m\u001b[0;34m\u001b[0m\u001b[0;34m\u001b[0m\u001b[0m\n\u001b[0m\u001b[1;32m   1389\u001b[0m \u001b[0;34m\u001b[0m\u001b[0m\n\u001b[1;32m   1390\u001b[0m \u001b[0;34m\u001b[0m\u001b[0m\n",
            "\u001b[0;32m/usr/local/lib/python3.10/dist-packages/sklearn/model_selection/_search.py\u001b[0m in \u001b[0;36mevaluate_candidates\u001b[0;34m(candidate_params, cv, more_results)\u001b[0m\n\u001b[1;32m    819\u001b[0m                     )\n\u001b[1;32m    820\u001b[0m \u001b[0;34m\u001b[0m\u001b[0m\n\u001b[0;32m--> 821\u001b[0;31m                 out = parallel(\n\u001b[0m\u001b[1;32m    822\u001b[0m                     delayed(_fit_and_score)(\n\u001b[1;32m    823\u001b[0m                         \u001b[0mclone\u001b[0m\u001b[0;34m(\u001b[0m\u001b[0mbase_estimator\u001b[0m\u001b[0;34m)\u001b[0m\u001b[0;34m,\u001b[0m\u001b[0;34m\u001b[0m\u001b[0;34m\u001b[0m\u001b[0m\n",
            "\u001b[0;32m/usr/local/lib/python3.10/dist-packages/sklearn/utils/parallel.py\u001b[0m in \u001b[0;36m__call__\u001b[0;34m(self, iterable)\u001b[0m\n\u001b[1;32m     61\u001b[0m             \u001b[0;32mfor\u001b[0m \u001b[0mdelayed_func\u001b[0m\u001b[0;34m,\u001b[0m \u001b[0margs\u001b[0m\u001b[0;34m,\u001b[0m \u001b[0mkwargs\u001b[0m \u001b[0;32min\u001b[0m \u001b[0miterable\u001b[0m\u001b[0;34m\u001b[0m\u001b[0;34m\u001b[0m\u001b[0m\n\u001b[1;32m     62\u001b[0m         )\n\u001b[0;32m---> 63\u001b[0;31m         \u001b[0;32mreturn\u001b[0m \u001b[0msuper\u001b[0m\u001b[0;34m(\u001b[0m\u001b[0;34m)\u001b[0m\u001b[0;34m.\u001b[0m\u001b[0m__call__\u001b[0m\u001b[0;34m(\u001b[0m\u001b[0miterable_with_config\u001b[0m\u001b[0;34m)\u001b[0m\u001b[0;34m\u001b[0m\u001b[0;34m\u001b[0m\u001b[0m\n\u001b[0m\u001b[1;32m     64\u001b[0m \u001b[0;34m\u001b[0m\u001b[0m\n\u001b[1;32m     65\u001b[0m \u001b[0;34m\u001b[0m\u001b[0m\n",
            "\u001b[0;32m/usr/local/lib/python3.10/dist-packages/joblib/parallel.py\u001b[0m in \u001b[0;36m__call__\u001b[0;34m(self, iterable)\u001b[0m\n\u001b[1;32m   1950\u001b[0m         \u001b[0mnext\u001b[0m\u001b[0;34m(\u001b[0m\u001b[0moutput\u001b[0m\u001b[0;34m)\u001b[0m\u001b[0;34m\u001b[0m\u001b[0;34m\u001b[0m\u001b[0m\n\u001b[1;32m   1951\u001b[0m \u001b[0;34m\u001b[0m\u001b[0m\n\u001b[0;32m-> 1952\u001b[0;31m         \u001b[0;32mreturn\u001b[0m \u001b[0moutput\u001b[0m \u001b[0;32mif\u001b[0m \u001b[0mself\u001b[0m\u001b[0;34m.\u001b[0m\u001b[0mreturn_generator\u001b[0m \u001b[0;32melse\u001b[0m \u001b[0mlist\u001b[0m\u001b[0;34m(\u001b[0m\u001b[0moutput\u001b[0m\u001b[0;34m)\u001b[0m\u001b[0;34m\u001b[0m\u001b[0;34m\u001b[0m\u001b[0m\n\u001b[0m\u001b[1;32m   1953\u001b[0m \u001b[0;34m\u001b[0m\u001b[0m\n\u001b[1;32m   1954\u001b[0m     \u001b[0;32mdef\u001b[0m \u001b[0m__repr__\u001b[0m\u001b[0;34m(\u001b[0m\u001b[0mself\u001b[0m\u001b[0;34m)\u001b[0m\u001b[0;34m:\u001b[0m\u001b[0;34m\u001b[0m\u001b[0;34m\u001b[0m\u001b[0m\n",
            "\u001b[0;32m/usr/local/lib/python3.10/dist-packages/joblib/parallel.py\u001b[0m in \u001b[0;36m_get_outputs\u001b[0;34m(self, iterator, pre_dispatch)\u001b[0m\n\u001b[1;32m   1593\u001b[0m \u001b[0;34m\u001b[0m\u001b[0m\n\u001b[1;32m   1594\u001b[0m             \u001b[0;32mwith\u001b[0m \u001b[0mself\u001b[0m\u001b[0;34m.\u001b[0m\u001b[0m_backend\u001b[0m\u001b[0;34m.\u001b[0m\u001b[0mretrieval_context\u001b[0m\u001b[0;34m(\u001b[0m\u001b[0;34m)\u001b[0m\u001b[0;34m:\u001b[0m\u001b[0;34m\u001b[0m\u001b[0;34m\u001b[0m\u001b[0m\n\u001b[0;32m-> 1595\u001b[0;31m                 \u001b[0;32myield\u001b[0m \u001b[0;32mfrom\u001b[0m \u001b[0mself\u001b[0m\u001b[0;34m.\u001b[0m\u001b[0m_retrieve\u001b[0m\u001b[0;34m(\u001b[0m\u001b[0;34m)\u001b[0m\u001b[0;34m\u001b[0m\u001b[0;34m\u001b[0m\u001b[0m\n\u001b[0m\u001b[1;32m   1596\u001b[0m \u001b[0;34m\u001b[0m\u001b[0m\n\u001b[1;32m   1597\u001b[0m         \u001b[0;32mexcept\u001b[0m \u001b[0mGeneratorExit\u001b[0m\u001b[0;34m:\u001b[0m\u001b[0;34m\u001b[0m\u001b[0;34m\u001b[0m\u001b[0m\n",
            "\u001b[0;32m/usr/local/lib/python3.10/dist-packages/joblib/parallel.py\u001b[0m in \u001b[0;36m_retrieve\u001b[0;34m(self)\u001b[0m\n\u001b[1;32m   1705\u001b[0m                 (self._jobs[0].get_status(\n\u001b[1;32m   1706\u001b[0m                     timeout=self.timeout) == TASK_PENDING)):\n\u001b[0;32m-> 1707\u001b[0;31m                 \u001b[0mtime\u001b[0m\u001b[0;34m.\u001b[0m\u001b[0msleep\u001b[0m\u001b[0;34m(\u001b[0m\u001b[0;36m0.01\u001b[0m\u001b[0;34m)\u001b[0m\u001b[0;34m\u001b[0m\u001b[0;34m\u001b[0m\u001b[0m\n\u001b[0m\u001b[1;32m   1708\u001b[0m                 \u001b[0;32mcontinue\u001b[0m\u001b[0;34m\u001b[0m\u001b[0;34m\u001b[0m\u001b[0m\n\u001b[1;32m   1709\u001b[0m \u001b[0;34m\u001b[0m\u001b[0m\n",
            "\u001b[0;31mKeyboardInterrupt\u001b[0m: "
          ]
        }
      ],
      "source": [
        "from sklearn.model_selection import GridSearchCV\n",
        "from sklearn.ensemble import RandomForestClassifier\n",
        "import numpy as np\n",
        "\n",
        "# Define your RandomForestClassifier\n",
        "rf = RandomForestRegressor()\n",
        "\n",
        "# Define the parameter grid\n",
        "param_dist_rf={\n",
        "    'n_estimators':np.arange(10,30,5),\n",
        "    'max_features':['auto','sqrt',0.3],  # removed quotes from 0.3\n",
        "    'max_depth':[10,15,20],\n",
        "    'min_samples_split':np.arange(5,10,1),\n",
        "    'max_leaf_nodes':np.arange(40,45,1),\n",
        "    'max_samples': np.arange(180,185,1),\n",
        "    'min_samples_leaf':np.arange(1,5,1),\n",
        "    'bootstrap':[True]\n",
        "}\n",
        "\n",
        "# Perform GridSearchCV\n",
        "grid_search_rf = GridSearchCV(estimator=rf, param_grid=param_dist_rf, cv=5, n_jobs=-1)\n",
        "grid_search_rf.fit(x_train, y_train)  # Assuming you have defined X_train and y_train\n",
        "\n",
        "# Print best parameters and best score\n",
        "print(\"Best Parameters:\", grid_search_rf.best_params_)\n",
        "print(\"Best Score:\", grid_search_rf.best_score_)\n"
      ]
    },
    {
      "cell_type": "code",
      "execution_count": null,
      "metadata": {
        "id": "lBVrCtuu29vf"
      },
      "outputs": [],
      "source": []
    },
    {
      "cell_type": "code",
      "execution_count": null,
      "metadata": {
        "id": "Ayxf4_GZtDvn"
      },
      "outputs": [],
      "source": []
    },
    {
      "cell_type": "markdown",
      "metadata": {
        "id": "1Lay_7sEtEsg"
      },
      "source": [
        "**Best Model**"
      ]
    },
    {
      "cell_type": "code",
      "execution_count": null,
      "metadata": {
        "id": "LkcBT1WhtDsI"
      },
      "outputs": [],
      "source": [
        "x_train1 = train[['distance', 'speed', 'temp_inside', 'temp_outside', 'AC_1', 'rain_1']]\n",
        "y_train1 = train[['consume']]\n",
        "\n",
        "x_test1 = test[['distance', 'speed', 'temp_inside', 'temp_outside', 'AC_1', 'rain_1']]\n",
        "y_test1 = test[['consume']]"
      ]
    },
    {
      "cell_type": "code",
      "execution_count": null,
      "metadata": {
        "id": "JUHGLwYRtDpJ"
      },
      "outputs": [],
      "source": [
        "rf1 = RandomForestRegressor(\n",
        "    max_features='auto',\n",
        "    n_estimators=20,\n",
        "    max_depth=15,\n",
        "    min_samples_split=7,\n",
        "    max_leaf_nodes=41,\n",
        "    max_samples=116,\n",
        "    min_samples_leaf=1,\n",
        "    bootstrap=True,\n",
        "    random_state=27)"
      ]
    },
    {
      "cell_type": "code",
      "execution_count": null,
      "metadata": {
        "colab": {
          "base_uri": "https://localhost:8080/",
          "height": 865
        },
        "id": "ithH_BHttDmd",
        "outputId": "ecf24fc8-68c3-4119-b28d-18d23f8b01e8"
      },
      "outputs": [
        {
          "output_type": "stream",
          "name": "stderr",
          "text": [
            "<ipython-input-11-82203a7e63f2>:9: DataConversionWarning: A column-vector y was passed when a 1d array was expected. Please change the shape of y to (n_samples,), for example using ravel().\n",
            "  rf1.fit(x_train1, y_train1)\n",
            "/usr/local/lib/python3.10/dist-packages/sklearn/ensemble/_forest.py:413: FutureWarning: `max_features='auto'` has been deprecated in 1.1 and will be removed in 1.3. To keep the past behaviour, explicitly set `max_features=1.0` or remove this parameter as it is also the default value for RandomForestRegressors and ExtraTreesRegressors.\n",
            "  warn(\n"
          ]
        },
        {
          "output_type": "stream",
          "name": "stdout",
          "text": [
            "RandomForestRegressor(max_depth=15, max_features='auto', max_leaf_nodes=41,\n",
            "                      max_samples=116, min_samples_split=7, n_estimators=20,\n",
            "                      random_state=27)\n",
            "\n",
            "Model Report\n",
            "Mean Squared Error (MSE train): 0.26710857266501825\n",
            "Mean Squared Error (MSE test): 0.37852528651822015\n",
            "Root Mean Squared Error (RMSE train): 0.5168254760216627\n",
            "Root Mean Squared Error (RMSE test): 0.6152440869429142\n",
            "Mean Absolute Error (MAE train): 0.3380361042144131\n",
            "Mean Absolute Error (MAE test): 0.4136341991341992\n",
            "R-squared value train: 0.7866636888602087\n",
            "R-squared value test: 0.38241915568674123\n",
            "[0.71755488 0.08843399 0.0196776  0.15032821 0.01040477 0.01360055]\n"
          ]
        },
        {
          "output_type": "display_data",
          "data": {
            "text/plain": [
              "<Figure size 640x480 with 1 Axes>"
            ],
            "image/png": "[encoded data removed]"
          },
          "metadata": {}
        }
      ],
      "source": [
        "import pandas as pd\n",
        "import matplotlib.pyplot as plt\n",
        "from sklearn.metrics import mean_squared_error\n",
        "from sklearn.metrics import mean_squared_error, mean_absolute_error, r2_score\n",
        "\n",
        "\n",
        "\n",
        "    # Fit the algorithm on the data\n",
        "rf1.fit(x_train1, y_train1)\n",
        "\n",
        "print(rf1)\n",
        "\n",
        "    # Predict training set\n",
        "y_train_pred1 = rf1.predict(x_train1)\n",
        "y_test_pred1 = rf1.predict(x_test1)\n",
        "\n",
        "    # Print model report\n",
        "print(\"\\nModel Report\")\n",
        "\n",
        "print(\"Mean Squared Error (MSE train):\", mean_squared_error(y_train1, y_train_pred1))\n",
        "print(\"Mean Squared Error (MSE test):\", mean_squared_error(y_test1, y_test_pred1))\n",
        "\n",
        "print(\"Root Mean Squared Error (RMSE train):\", np.sqrt(mean_squared_error(y_train1, y_train_pred1)))\n",
        "print(\"Root Mean Squared Error (RMSE test):\", np.sqrt(mean_squared_error(y_test1, y_test_pred1)))\n",
        "\n",
        "print(\"Mean Absolute Error (MAE train):\", mean_absolute_error(y_train1, y_train_pred1))\n",
        "print(\"Mean Absolute Error (MAE test):\", mean_absolute_error(y_test1, y_test_pred1))\n",
        "\n",
        "print(\"R-squared value train:\", r2_score(y_train1, y_train_pred1))\n",
        "print(\"R-squared value test:\", r2_score(y_test1, y_test_pred1))\n",
        "\n",
        "feat_imp = pd.Series(rf1.feature_importances_, index=x_train1.columns).sort_values(ascending=False)\n",
        "feat_imp.plot(kind='bar', title='Feature Importances')\n",
        "plt.ylabel('Feature Importance Score')\n",
        "print(rf1.feature_importances_)\n"
      ]
    },
    {
      "cell_type": "code",
      "execution_count": null,
      "metadata": {
        "id": "zu6Q60jEtDjv"
      },
      "outputs": [],
      "source": []
    },
    {
      "cell_type": "code",
      "source": [
        "import pickle\n",
        "\n",
        "# Save the model and feature names to a dictionary\n",
        "model_data = {\n",
        "    \"model\": rf1,\n",
        "    \"feature_names\": ['distance', 'speed', 'temp_inside', 'temp_outside', 'AC_1', 'rain_1']\n",
        "}\n",
        "\n",
        "# Save the dictionary to a file\n",
        "with open('random_forest_model.pkl', 'wb') as file:\n",
        "    pickle.dump(model_data, file)\n",
        "\n",
        "# Load the model and feature names from the pickle file\n",
        "with open('random_forest_model.pkl', 'rb') as file:\n",
        "    loaded_model_data = pickle.load(file)\n",
        "\n",
        "# Access the loaded model and feature names\n",
        "regressor_loaded = loaded_model_data[\"model\"]\n",
        "feature_names = loaded_model_data[\"feature_names\"]\n",
        "\n",
        "# Now you can use the loaded model and feature names as needed\n"
      ],
      "metadata": {
        "id": "gx5Ucd3ih6uJ"
      },
      "execution_count": null,
      "outputs": []
    },
    {
      "cell_type": "code",
      "source": [],
      "metadata": {
        "id": "kI2Gs2Uoh6q_"
      },
      "execution_count": null,
      "outputs": []
    },
    {
      "cell_type": "code",
      "source": [
        "import os\n",
        "\n",
        "# Get the directory of a specific file\n",
        "file_path = 'app.py'\n",
        "directory = os.path.dirname(file_path)\n",
        "\n",
        "print(\"Directory of the file:\", directory)\n"
      ],
      "metadata": {
        "colab": {
          "base_uri": "https://localhost:8080/"
        },
        "id": "DmhkAQ1xn9Cp",
        "outputId": "ebf50eed-35b5-44e6-811e-5bf2421fa456"
      },
      "execution_count": null,
      "outputs": [
        {
          "output_type": "stream",
          "name": "stdout",
          "text": [
            "Directory of the file: \n"
          ]
        }
      ]
    },
    {
      "cell_type": "markdown",
      "metadata": {
        "id": "0LhQXYE7jST6"
      },
      "source": [
        "**Partial dependency plot**"
      ]
    },
    {
      "cell_type": "code",
      "execution_count": null,
      "metadata": {
        "colab": {
          "base_uri": "https://localhost:8080/",
          "height": 1000
        },
        "id": "B4yrbmnwXVkh",
        "outputId": "89820d4c-57fe-4b96-b6f7-3c3d2c659442"
      },
      "outputs": [
        {
          "data": {
            "text/plain": [
              "<sklearn.inspection._plot.partial_dependence.PartialDependenceDisplay at 0x7a37a8c16500>"
            ]
          },
          "execution_count": 60,
          "metadata": {},
          "output_type": "execute_result"
        },
        {
          "data": {
            "image/png": "[encoded data removed]",
            "text/plain": [
              "<Figure size 2000x1400 with 7 Axes>"
            ]
          },
          "metadata": {},
          "output_type": "display_data"
        }
      ],
      "source": [
        "from sklearn.inspection import PartialDependenceDisplay\n",
        "\n",
        "features=[0,1,2,3,4,5]\n",
        "fig,ax = plt.subplots(figsize=(20,14))\n",
        "ax.set_title(\"Random Forest\")\n",
        "PartialDependenceDisplay.from_estimator(rf1,x_train1,features,target=y_train1,ax=ax)"
      ]
    },
    {
      "cell_type": "markdown",
      "metadata": {
        "id": "G25WqbZ_3YBL"
      },
      "source": [
        "**GRNN**"
      ]
    },
    {
      "cell_type": "code",
      "execution_count": null,
      "metadata": {
        "colab": {
          "base_uri": "https://localhost:8080/"
        },
        "id": "gwlKr3YSpHGv",
        "outputId": "eb668161-b811-415a-a0f3-c3a2249514e6"
      },
      "outputs": [
        {
          "output_type": "stream",
          "name": "stdout",
          "text": [
            "Training MSE: 0.010058983846970222\n",
            "Test MSE: 0.6879024876265031\n"
          ]
        }
      ],
      "source": [
        "import numpy as np\n",
        "\n",
        "class GRNN:\n",
        "    def __init__(self, sigma=1.0):\n",
        "        self.sigma = sigma\n",
        "\n",
        "    def gaussian_kernel(self, x, xi):\n",
        "        return np.exp(-np.sum((x - xi) ** 2) / (2 * self.sigma ** 2))\n",
        "\n",
        "    def fit(self, X_train, y_train):\n",
        "        self.X_train = X_train\n",
        "        self.y_train = y_train\n",
        "\n",
        "    def predict(self, X_test):\n",
        "        predictions = []\n",
        "        for x_test in X_test:\n",
        "            total_weighted_sum = 0\n",
        "            total_weights = 0\n",
        "            for xi, yi in zip(self.X_train, self.y_train):\n",
        "                kernel_value = self.gaussian_kernel(x_test, xi)\n",
        "                total_weighted_sum += kernel_value * yi\n",
        "                total_weights += kernel_value\n",
        "            predictions.append(total_weighted_sum / total_weights)\n",
        "        return np.array(predictions)\n",
        "\n",
        "def calculate_mse(y_true, y_pred):\n",
        "    return np.mean((y_true - y_pred) ** 2)\n",
        "\n",
        "# Assuming you have loaded your training and testing data into x_train, y_train, x_test, and y_test\n",
        "\n",
        "# Create and train GRNN model\n",
        "grnn = GRNN(sigma=0.8)\n",
        "grnn.fit(x_train.values, y_train.values)\n",
        "\n",
        "# Predict on training and testing data\n",
        "y_train_pred = grnn.predict(x_train.values)\n",
        "y_test_pred = grnn.predict(x_test.values)\n",
        "\n",
        "# Calculate Mean Squared Error\n",
        "train_mse = calculate_mse(y_train.values, y_train_pred)\n",
        "test_mse = calculate_mse(y_test.values, y_test_pred)\n",
        "\n",
        "print(\"Training MSE:\", train_mse)\n",
        "print(\"Test MSE:\", test_mse)"
      ]
    },
    {
      "cell_type": "code",
      "execution_count": null,
      "metadata": {
        "colab": {
          "base_uri": "https://localhost:8080/"
        },
        "id": "f_LgYpJIpIES",
        "outputId": "0753b09f-4210-432b-f9b0-ac1d8e43529a"
      },
      "outputs": [
        {
          "output_type": "stream",
          "name": "stdout",
          "text": [
            "Mean Squared Error (MSE train): 0.010058983846970222\n",
            "Mean Squared Error (MSE test): 0.6879024876265031\n",
            "Root Mean Squared Error (RMSE train): 0.10029448562593171\n",
            "Root Mean Squared Error (RMSE test): 0.8293988712474253\n",
            "Mean Absolute Error (MAE train): 0.03813850617284401\n",
            "Mean Absolute Error (MAE test): 0.5482375965578603\n",
            "R-squared value train: 0.9919660140956291\n",
            "R-squared value test: -0.1223435111068003\n"
          ]
        }
      ],
      "source": [
        "from sklearn.metrics import mean_squared_error, mean_absolute_error, r2_score\n",
        "import numpy as np\n",
        "# Calculate Mean Squared Error (MSE)\n",
        "mse_train = mean_squared_error(y_train, y_train_pred)\n",
        "mse_test = mean_squared_error(y_test, y_test_pred)\n",
        "\n",
        "# Calculate Root Mean Squared Error (RMSE)\n",
        "rmse_train = np.sqrt(mse_train)\n",
        "rmse_test = np.sqrt(mse_test)\n",
        "\n",
        "# Calculate Mean Absolute Error (MAE)\n",
        "mae_train = mean_absolute_error(y_train, y_train_pred)\n",
        "mae_test = mean_absolute_error(y_test, y_test_pred)\n",
        "\n",
        "# Calculate R-squared value\n",
        "r_squared_train = r2_score(y_train, y_train_pred)\n",
        "r_squared_test = r2_score(y_test, y_test_pred)\n",
        "\n",
        "\n",
        "print(\"Mean Squared Error (MSE train):\", mse_train)\n",
        "print(\"Mean Squared Error (MSE test):\", mse_test)\n",
        "\n",
        "print(\"Root Mean Squared Error (RMSE train):\", rmse_train)\n",
        "print(\"Root Mean Squared Error (RMSE test):\", rmse_test)\n",
        "\n",
        "print(\"Mean Absolute Error (MAE train):\", mae_train)\n",
        "print(\"Mean Absolute Error (MAE test):\", mae_test)\n",
        "\n",
        "print(\"R-squared value train:\", r_squared_train)\n",
        "print(\"R-squared value test:\", r_squared_test)"
      ]
    },
    {
      "cell_type": "code",
      "execution_count": null,
      "metadata": {
        "id": "8TJ4KDqmpIxL"
      },
      "outputs": [],
      "source": []
    },
    {
      "cell_type": "code",
      "source": [
        "import numpy as np\n",
        "from sklearn.base import BaseEstimator, RegressorMixin\n",
        "from sklearn.model_selection import GridSearchCV\n",
        "class GRNN(BaseEstimator, RegressorMixin):\n",
        "    def __init__(self, std=0.1):\n",
        "        self.std = std\n",
        "        self.X_train = None\n",
        "        self.y_train = None\n",
        "\n",
        "    def fit(self, X, y):\n",
        "        self.X_train = X\n",
        "        self.y_train = y\n",
        "\n",
        "    def predict(self, X):\n",
        "        y_pred = np.zeros(len(X))\n",
        "        for i, x in enumerate(X):\n",
        "            y_pred[i] = np.sum(self.y_train * np.exp(-np.sum((self.X_train - x) ** 2, axis=1) / (2 * self.std ** 2))) / np.sum(np.exp(-np.sum((self.X_train - x) ** 2, axis=1) / (2 * self.std ** 2)))\n",
        "        return y_pred\n",
        "\n",
        "def calculate_mse(y_true, y_pred):\n",
        "    return np.mean((y_true - y_pred) ** 2)\n",
        "\n",
        "# Assuming you have loaded your training and testing data into x_train, y_train, x_test, and y_test\n",
        "\n",
        "# Create and train GRNN model\n",
        "grnn = GRNN()\n",
        "\n",
        "# Define the range of sigma values to search\n",
        "param_grid = {\n",
        "    'std': [0.1, 0.2, 0.5, 1.0, 2.0]\n",
        "}\n",
        "\n",
        "# Perform grid search with cross-validation\n",
        "grid_search = GridSearchCV(estimator=grnn, param_grid=param_grid, cv=5, scoring='neg_mean_squared_error')\n",
        "grid_search.fit(x_train, y_train)\n",
        "\n",
        "# Get the best sigma value\n",
        "best_sigma = grid_search.best_params_['std']\n",
        "\n",
        "print(\"Best sigma:\", best_sigma)\n",
        "\n",
        "# Set the best sigma value to the GRNN model\n",
        "grnn = GRNN(std=best_sigma)\n",
        "\n",
        "# Train the model with the best sigma value\n",
        "grnn.fit(x_train, y_train)\n",
        "\n",
        "# Predict on training and testing data\n",
        "y_train_pred = grnn.predict(x_train.values)\n",
        "y_test_pred = grnn.predict(x_test.values)\n",
        "\n",
        "# Calculate Mean Squared Error\n",
        "train_mse = calculate_mse(y_train.values, y_train_pred)\n",
        "test_mse = calculate_mse(y_test.values, y_test_pred)\n",
        "\n",
        "print(\"Training MSE:\", train_mse)\n",
        "print(\"Test MSE:\", test_mse)"
      ],
      "metadata": {
        "id": "_BawCN-ntdMK"
      },
      "execution_count": null,
      "outputs": []
    },
    {
      "cell_type": "code",
      "source": [],
      "metadata": {
        "id": "myAdV3fFtdGK"
      },
      "execution_count": null,
      "outputs": []
    },
    {
      "cell_type": "code",
      "source": [],
      "metadata": {
        "id": "jXB9bhQEtdDL"
      },
      "execution_count": null,
      "outputs": []
    },
    {
      "cell_type": "code",
      "source": [],
      "metadata": {
        "id": "EB3Ry53_tdAf"
      },
      "execution_count": null,
      "outputs": []
    }
  ],
  "metadata": {
    "colab": {
      "provenance": []
    },
    "kernelspec": {
      "display_name": "Python 3",
      "name": "python3"
    },
    "language_info": {
      "name": "python"
    }
  },
  "nbformat": 4,
  "nbformat_minor": 0
}